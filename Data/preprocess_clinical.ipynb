{
 "cells": [
  {
   "cell_type": "markdown",
   "metadata": {},
   "source": [
    "<a id='Top'></a>\n",
    "\n",
    "# Prepare clinical data <a class='tocSkip'></a>\n",
    "\n",
    "Preprocess clinical data for all patients, collect relevant survival labels and define train/validation/test split using the unique patient ID codes."
   ]
  },
  {
   "cell_type": "code",
   "execution_count": 1,
   "metadata": {
    "code_folding": [],
    "scrolled": false
   },
   "outputs": [],
   "source": [
    "%load_ext autoreload\n",
    "%autoreload 2\n",
    "\n",
    "%load_ext watermark\n",
    "\n",
    "import os\n",
    "\n",
    "import pandas as pd\n",
    "from sklearn.model_selection import train_test_split\n",
    "from sklearn.preprocessing import MinMaxScaler\n",
    "from sklearn.preprocessing import LabelEncoder\n",
    "from lifelines import KaplanMeierFitter"
   ]
  },
  {
   "cell_type": "code",
   "execution_count": 99,
   "metadata": {},
   "outputs": [],
   "source": [
    "DATA_LOCATION = '/user_home/euiyoung/hek/multisurv/mnt/dataA/TCGA/processed/Clinical/'"
   ]
  },
  {
   "cell_type": "markdown",
   "metadata": {
    "toc": true
   },
   "source": [
    "<h1>Table of Contents<span class=\"tocSkip\"></span></h1>\n",
    "<div class=\"toc\"><ul class=\"toc-item\"><li><span><a href=\"#Load-and-explore-data\" data-toc-modified-id=\"Load-and-explore-data-1\"><span class=\"toc-item-num\">1&nbsp;&nbsp;</span>Load and explore data</a></span></li><li><span><a href=\"#Select-variables\" data-toc-modified-id=\"Select-variables-2\"><span class=\"toc-item-num\">2&nbsp;&nbsp;</span>Select variables</a></span></li><li><span><a href=\"#Clean-up-inconsistencies\" data-toc-modified-id=\"Clean-up-inconsistencies-3\"><span class=\"toc-item-num\">3&nbsp;&nbsp;</span>Clean up inconsistencies</a></span><ul class=\"toc-item\"><li><span><a href=\"#Consolidate-race-and-ethnicity\" data-toc-modified-id=\"Consolidate-race-and-ethnicity-3.1\"><span class=\"toc-item-num\">3.1&nbsp;&nbsp;</span>Consolidate <code>race</code> and <code>ethnicity</code></a></span></li><li><span><a href=\"#Missing-label-data\" data-toc-modified-id=\"Missing-label-data-3.2\"><span class=\"toc-item-num\">3.2&nbsp;&nbsp;</span>Missing label data</a></span><ul class=\"toc-item\"><li><span><a href=\"#vital_status\" data-toc-modified-id=\"vital_status-3.2.1\"><span class=\"toc-item-num\">3.2.1&nbsp;&nbsp;</span><code>vital_status</code></a></span></li><li><span><a href=\"#Both-duration-values\" data-toc-modified-id=\"Both-duration-values-3.2.2\"><span class=\"toc-item-num\">3.2.2&nbsp;&nbsp;</span>Both duration values</a></span></li><li><span><a href=\"#Required-duration-value\" data-toc-modified-id=\"Required-duration-value-3.2.3\"><span class=\"toc-item-num\">3.2.3&nbsp;&nbsp;</span>Required duration value</a></span></li></ul></li><li><span><a href=\"#Not-missing-days_to_last_follow_up-when-vital_status-is-&quot;Dead&quot;\" data-toc-modified-id=\"Not-missing-days_to_last_follow_up-when-vital_status-is-&quot;Dead&quot;-3.3\"><span class=\"toc-item-num\">3.3&nbsp;&nbsp;</span>Not missing <code>days_to_last_follow_up</code> when <code>vital_status</code> is \"Dead\"</a></span></li><li><span><a href=\"#Negative-durations\" data-toc-modified-id=\"Negative-durations-3.4\"><span class=\"toc-item-num\">3.4&nbsp;&nbsp;</span>Negative durations</a></span></li></ul></li><li><span><a href=\"#Label-data\" data-toc-modified-id=\"Label-data-4\"><span class=\"toc-item-num\">4&nbsp;&nbsp;</span>Label data</a></span></li><li><span><a href=\"#Train-val-test-split\" data-toc-modified-id=\"Train-val-test-split-5\"><span class=\"toc-item-num\">5&nbsp;&nbsp;</span>Train-val-test split</a></span><ul class=\"toc-item\"><li><span><a href=\"#Survival-curves\" data-toc-modified-id=\"Survival-curves-5.1\"><span class=\"toc-item-num\">5.1&nbsp;&nbsp;</span>Survival curves</a></span></li></ul></li><li><span><a href=\"#Save-clinical-data-to-file\" data-toc-modified-id=\"Save-clinical-data-to-file-6\"><span class=\"toc-item-num\">6&nbsp;&nbsp;</span>Save clinical data to file</a></span></li><li><span><a href=\"#Input-missing-values\" data-toc-modified-id=\"Input-missing-values-7\"><span class=\"toc-item-num\">7&nbsp;&nbsp;</span>Input missing values</a></span></li><li><span><a href=\"#Scale-continuous-variables\" data-toc-modified-id=\"Scale-continuous-variables-8\"><span class=\"toc-item-num\">8&nbsp;&nbsp;</span>Scale continuous variables</a></span></li><li><span><a href=\"#Encode-categorical-variables\" data-toc-modified-id=\"Encode-categorical-variables-9\"><span class=\"toc-item-num\">9&nbsp;&nbsp;</span>Encode categorical variables</a></span></li><li><span><a href=\"#Save-patient-data-to-files\" data-toc-modified-id=\"Save-patient-data-to-files-10\"><span class=\"toc-item-num\">10&nbsp;&nbsp;</span>Save patient data to files</a></span><ul class=\"toc-item\"><li><span><a href=\"#Survival-labels\" data-toc-modified-id=\"Survival-labels-10.1\"><span class=\"toc-item-num\">10.1&nbsp;&nbsp;</span>Survival labels</a></span></li><li><span><a href=\"#Clinical-data\" data-toc-modified-id=\"Clinical-data-10.2\"><span class=\"toc-item-num\">10.2&nbsp;&nbsp;</span>Clinical data</a></span></li></ul></li></ul></div>"
   ]
  },
  {
   "cell_type": "markdown",
   "metadata": {},
   "source": [
    "# Load and explore data\n",
    "\n",
    "General exploration of data to remove features:\n",
    "    * missing all data\n",
    "    * with as many levels as there are patients"
   ]
  },
  {
   "cell_type": "code",
   "execution_count": 3,
   "metadata": {},
   "outputs": [],
   "source": [
    "clinical = pd.read_csv('/user_home/euiyoung/hek/multisurv/mnt/dataA/TCGA/raw/clinical_data.tsv',\n",
    "                       sep='\\t', na_values=['not reported', 'Not Reported'],\n",
    "                       low_memory=False)"
   ]
  },
  {
   "cell_type": "code",
   "execution_count": 4,
   "metadata": {},
   "outputs": [
    {
     "data": {
      "text/plain": [
       "(11315, 141)"
      ]
     },
     "execution_count": 4,
     "metadata": {},
     "output_type": "execute_result"
    }
   ],
   "source": [
    "clinical.shape"
   ]
  },
  {
   "cell_type": "code",
   "execution_count": 5,
   "metadata": {},
   "outputs": [],
   "source": [
    "# if 'disease'in clinical.columns:\n",
    "#     print('disease column exsits.')\n",
    "# else:\n",
    "#     print('disease column does not exsit.')"
   ]
  },
  {
   "cell_type": "code",
   "execution_count": 6,
   "metadata": {},
   "outputs": [
    {
     "data": {
      "text/html": [
       "<div>\n",
       "<style scoped>\n",
       "    .dataframe tbody tr th:only-of-type {\n",
       "        vertical-align: middle;\n",
       "    }\n",
       "\n",
       "    .dataframe tbody tr th {\n",
       "        vertical-align: top;\n",
       "    }\n",
       "\n",
       "    .dataframe thead th {\n",
       "        text-align: right;\n",
       "    }\n",
       "</style>\n",
       "<table border=\"1\" class=\"dataframe\">\n",
       "  <thead>\n",
       "    <tr style=\"text-align: right;\">\n",
       "      <th></th>\n",
       "      <th>project</th>\n",
       "      <th>submitter_id</th>\n",
       "      <th>synchronous_malignancy</th>\n",
       "      <th>ajcc_pathologic_stage</th>\n",
       "      <th>days_to_diagnosis</th>\n",
       "      <th>created_datetime</th>\n",
       "      <th>last_known_disease_status</th>\n",
       "      <th>tissue_or_organ_of_origin</th>\n",
       "      <th>days_to_last_follow_up</th>\n",
       "      <th>age_at_diagnosis</th>\n",
       "      <th>...</th>\n",
       "      <th>asbestos_exposure</th>\n",
       "      <th>tobacco_smoking_quit_year</th>\n",
       "      <th>tobacco_smoking_status</th>\n",
       "      <th>tobacco_smoking_onset_year</th>\n",
       "      <th>respirable_crystalline_silica_exposure</th>\n",
       "      <th>time_between_waking_and_first_smoke</th>\n",
       "      <th>coal_dust_exposure</th>\n",
       "      <th>cause_of_death</th>\n",
       "      <th>premature_at_birth</th>\n",
       "      <th>weeks_gestation_at_birth</th>\n",
       "    </tr>\n",
       "  </thead>\n",
       "  <tbody>\n",
       "    <tr>\n",
       "      <th>0</th>\n",
       "      <td>TCGA-ESCA</td>\n",
       "      <td>TCGA-2H-A9GL</td>\n",
       "      <td>No</td>\n",
       "      <td>Stage III</td>\n",
       "      <td>0.0</td>\n",
       "      <td>NaN</td>\n",
       "      <td>NaN</td>\n",
       "      <td>Lower third of esophagus</td>\n",
       "      <td>NaN</td>\n",
       "      <td>27115.0</td>\n",
       "      <td>...</td>\n",
       "      <td>NaN</td>\n",
       "      <td>NaN</td>\n",
       "      <td>NaN</td>\n",
       "      <td>NaN</td>\n",
       "      <td>NaN</td>\n",
       "      <td>NaN</td>\n",
       "      <td>NaN</td>\n",
       "      <td>NaN</td>\n",
       "      <td>NaN</td>\n",
       "      <td>NaN</td>\n",
       "    </tr>\n",
       "    <tr>\n",
       "      <th>1</th>\n",
       "      <td>TCGA-ESCA</td>\n",
       "      <td>TCGA-L5-A4OM</td>\n",
       "      <td>No</td>\n",
       "      <td>Stage IA</td>\n",
       "      <td>0.0</td>\n",
       "      <td>NaN</td>\n",
       "      <td>NaN</td>\n",
       "      <td>Lower third of esophagus</td>\n",
       "      <td>124.0</td>\n",
       "      <td>19845.0</td>\n",
       "      <td>...</td>\n",
       "      <td>NaN</td>\n",
       "      <td>NaN</td>\n",
       "      <td>NaN</td>\n",
       "      <td>NaN</td>\n",
       "      <td>NaN</td>\n",
       "      <td>NaN</td>\n",
       "      <td>NaN</td>\n",
       "      <td>NaN</td>\n",
       "      <td>NaN</td>\n",
       "      <td>NaN</td>\n",
       "    </tr>\n",
       "    <tr>\n",
       "      <th>2</th>\n",
       "      <td>TCGA-ESCA</td>\n",
       "      <td>TCGA-S8-A6BW</td>\n",
       "      <td>No</td>\n",
       "      <td>Stage IB</td>\n",
       "      <td>0.0</td>\n",
       "      <td>NaN</td>\n",
       "      <td>NaN</td>\n",
       "      <td>Esophagus, NOS</td>\n",
       "      <td>620.0</td>\n",
       "      <td>18944.0</td>\n",
       "      <td>...</td>\n",
       "      <td>NaN</td>\n",
       "      <td>NaN</td>\n",
       "      <td>NaN</td>\n",
       "      <td>NaN</td>\n",
       "      <td>NaN</td>\n",
       "      <td>NaN</td>\n",
       "      <td>NaN</td>\n",
       "      <td>NaN</td>\n",
       "      <td>NaN</td>\n",
       "      <td>NaN</td>\n",
       "    </tr>\n",
       "  </tbody>\n",
       "</table>\n",
       "<p>3 rows × 141 columns</p>\n",
       "</div>"
      ],
      "text/plain": [
       "     project  submitter_id synchronous_malignancy ajcc_pathologic_stage  \\\n",
       "0  TCGA-ESCA  TCGA-2H-A9GL                     No             Stage III   \n",
       "1  TCGA-ESCA  TCGA-L5-A4OM                     No              Stage IA   \n",
       "2  TCGA-ESCA  TCGA-S8-A6BW                     No              Stage IB   \n",
       "\n",
       "   days_to_diagnosis created_datetime  last_known_disease_status  \\\n",
       "0                0.0              NaN                        NaN   \n",
       "1                0.0              NaN                        NaN   \n",
       "2                0.0              NaN                        NaN   \n",
       "\n",
       "  tissue_or_organ_of_origin  days_to_last_follow_up  age_at_diagnosis  ...  \\\n",
       "0  Lower third of esophagus                     NaN           27115.0  ...   \n",
       "1  Lower third of esophagus                   124.0           19845.0  ...   \n",
       "2            Esophagus, NOS                   620.0           18944.0  ...   \n",
       "\n",
       "  asbestos_exposure tobacco_smoking_quit_year tobacco_smoking_status  \\\n",
       "0               NaN                       NaN                    NaN   \n",
       "1               NaN                       NaN                    NaN   \n",
       "2               NaN                       NaN                    NaN   \n",
       "\n",
       "   tobacco_smoking_onset_year respirable_crystalline_silica_exposure  \\\n",
       "0                         NaN                                    NaN   \n",
       "1                         NaN                                    NaN   \n",
       "2                         NaN                                    NaN   \n",
       "\n",
       "  time_between_waking_and_first_smoke  coal_dust_exposure cause_of_death  \\\n",
       "0                                 NaN                 NaN            NaN   \n",
       "1                                 NaN                 NaN            NaN   \n",
       "2                                 NaN                 NaN            NaN   \n",
       "\n",
       "  premature_at_birth  weeks_gestation_at_birth  \n",
       "0                NaN                       NaN  \n",
       "1                NaN                       NaN  \n",
       "2                NaN                       NaN  \n",
       "\n",
       "[3 rows x 141 columns]"
      ]
     },
     "execution_count": 6,
     "metadata": {},
     "output_type": "execute_result"
    }
   ],
   "source": [
    "clinical.head(3)"
   ]
  },
  {
   "cell_type": "code",
   "execution_count": 7,
   "metadata": {},
   "outputs": [
    {
     "name": "stdout",
     "output_type": "stream",
     "text": [
      "~~ MISSING DATA ~~\n",
      "\n",
      "synchronous_malignancy: 2075 (18.34%)\n",
      "ajcc_pathologic_stage: 4368 (38.6%)\n",
      "days_to_diagnosis: 276 (2.44%)\n",
      "created_datetime: 11308 (99.94%)\n",
      "tissue_or_organ_of_origin: 148 (1.31%)\n",
      "days_to_last_follow_up: 2182 (19.28%)\n",
      "age_at_diagnosis: 273 (2.41%)\n",
      "primary_diagnosis: 148 (1.31%)\n",
      "updated_datetime: 148 (1.31%)\n",
      "prior_malignancy: 1294 (11.44%)\n",
      "year_of_diagnosis: 281 (2.48%)\n",
      "state: 148 (1.31%)\n",
      "prior_treatment: 156 (1.38%)\n",
      "ajcc_staging_system_edition: 4918 (43.46%)\n",
      "ajcc_pathologic_t: 3426 (30.28%)\n",
      "morphology: 148 (1.31%)\n",
      "ajcc_pathologic_n: 3474 (30.7%)\n",
      "ajcc_pathologic_m: 4346 (38.41%)\n",
      "diagnosis_id: 148 (1.31%)\n",
      "icd_10_code: 352 (3.11%)\n",
      "site_of_resection_or_biopsy: 148 (1.31%)\n",
      "ajcc_clinical_stage: 10332 (91.31%)\n",
      "ajcc_clinical_m: 9578 (84.65%)\n",
      "ajcc_clinical_n: 10315 (91.16%)\n",
      "ajcc_clinical_t: 9747 (86.14%)\n",
      "cigarettes_per_day: 9645 (85.24%)\n",
      "alcohol_history: 10449 (92.35%)\n",
      "exposure_id: 148 (1.31%)\n",
      "years_smoked: 10675 (94.34%)\n",
      "pack_years_smoked: 9645 (85.24%)\n",
      "race: 1147 (10.14%)\n",
      "gender: 152 (1.34%)\n",
      "ethnicity: 2519 (22.26%)\n",
      "vital_status: 164 (1.45%)\n",
      "age_at_index: 205 (1.81%)\n",
      "days_to_birth: 273 (2.41%)\n",
      "year_of_birth: 321 (2.84%)\n",
      "demographic_id: 148 (1.31%)\n",
      "days_to_death: 7713 (68.17%)\n",
      "year_of_death: 8610 (76.09%)\n",
      "treatments_pharmaceutical_treatment_id: 148 (1.31%)\n",
      "treatments_pharmaceutical_treatment_type: 148 (1.31%)\n",
      "treatments_pharmaceutical_treatment_or_therapy: 1448 (12.8%)\n",
      "treatments_radiation_treatment_id: 148 (1.31%)\n",
      "treatments_radiation_treatment_type: 148 (1.31%)\n",
      "treatments_radiation_treatment_or_therapy: 1388 (12.27%)\n",
      "figo_stage: 9828 (86.86%)\n",
      "igcccg_stage: 11272 (99.62%)\n",
      "ann_arbor_clinical_stage: 11273 (99.63%)\n",
      "primary_gleason_grade: 10815 (95.58%)\n",
      "ann_arbor_b_symptoms: 11269 (99.59%)\n",
      "secondary_gleason_grade: 10815 (95.58%)\n",
      "ann_arbor_extranodal_involvement: 11269 (99.59%)\n",
      "masaoka_stage: 11193 (98.92%)\n"
     ]
    }
   ],
   "source": [
    "print('~~ MISSING DATA ~~')\n",
    "print()\n",
    "\n",
    "n = clinical.shape[0]\n",
    "\n",
    "for col in clinical.columns:\n",
    "    if col == 'submitter_id':\n",
    "        continue\n",
    "\n",
    "    n_levels = len(clinical[col].value_counts())\n",
    "    \n",
    "    if n_levels == n:\n",
    "        clinical = clinical.drop(columns=[col])\n",
    "    else:\n",
    "        n_missing = sum(clinical[col].isnull())\n",
    "        if n_missing > 0:\n",
    "            if n_missing == n:\n",
    "                clinical = clinical.drop(columns=[col])\n",
    "            else:\n",
    "                print(f'{col}: {n_missing} ({round(n_missing / n * 100, 2)}%)')"
   ]
  },
  {
   "cell_type": "code",
   "execution_count": 8,
   "metadata": {},
   "outputs": [
    {
     "data": {
      "text/plain": [
       "(11315, 56)"
      ]
     },
     "execution_count": 8,
     "metadata": {},
     "output_type": "execute_result"
    }
   ],
   "source": [
    "clinical.shape"
   ]
  },
  {
   "cell_type": "markdown",
   "metadata": {},
   "source": [
    "# Select variables\n",
    "\n",
    "Select a few variables to keep and drop the remaining ones."
   ]
  },
  {
   "cell_type": "code",
   "execution_count": 9,
   "metadata": {},
   "outputs": [
    {
     "data": {
      "text/plain": [
       "Index(['project', 'submitter_id', 'synchronous_malignancy',\n",
       "       'ajcc_pathologic_stage', 'days_to_diagnosis', 'created_datetime',\n",
       "       'tissue_or_organ_of_origin', 'days_to_last_follow_up',\n",
       "       'age_at_diagnosis', 'primary_diagnosis', 'updated_datetime',\n",
       "       'prior_malignancy', 'year_of_diagnosis', 'state', 'prior_treatment',\n",
       "       'ajcc_staging_system_edition', 'ajcc_pathologic_t', 'morphology',\n",
       "       'ajcc_pathologic_n', 'ajcc_pathologic_m', 'diagnosis_id', 'icd_10_code',\n",
       "       'site_of_resection_or_biopsy', 'ajcc_clinical_stage', 'ajcc_clinical_m',\n",
       "       'ajcc_clinical_n', 'ajcc_clinical_t', 'cigarettes_per_day',\n",
       "       'alcohol_history', 'exposure_id', 'years_smoked', 'pack_years_smoked',\n",
       "       'race', 'gender', 'ethnicity', 'vital_status', 'age_at_index',\n",
       "       'days_to_birth', 'year_of_birth', 'demographic_id', 'days_to_death',\n",
       "       'year_of_death', 'treatments_pharmaceutical_treatment_id',\n",
       "       'treatments_pharmaceutical_treatment_type',\n",
       "       'treatments_pharmaceutical_treatment_or_therapy',\n",
       "       'treatments_radiation_treatment_id',\n",
       "       'treatments_radiation_treatment_type',\n",
       "       'treatments_radiation_treatment_or_therapy', 'figo_stage',\n",
       "       'igcccg_stage', 'ann_arbor_clinical_stage', 'primary_gleason_grade',\n",
       "       'ann_arbor_b_symptoms', 'secondary_gleason_grade',\n",
       "       'ann_arbor_extranodal_involvement', 'masaoka_stage'],\n",
       "      dtype='object')"
      ]
     },
     "execution_count": 9,
     "metadata": {},
     "output_type": "execute_result"
    }
   ],
   "source": [
    "clinical.columns"
   ]
  },
  {
   "cell_type": "code",
   "execution_count": 10,
   "metadata": {},
   "outputs": [],
   "source": [
    "label_cols = ['submitter_id', 'days_to_last_follow_up', 'vital_status', 'days_to_death']\n",
    "\n",
    "keep_cols = ['ajcc_pathologic_stage', 'age_at_diagnosis', 'prior_treatment', 'prior_malignancy',\n",
    "             'synchronous_malignancy', 'gender', 'race', 'ethnicity', 'project',\n",
    "             'treatments_pharmaceutical_treatment_or_therapy',\n",
    "             'treatments_radiation_treatment_or_therapy']\n",
    "\n",
    "columns_to_drop = [col for col in clinical.columns if col not in label_cols + keep_cols]\n",
    "clinical = clinical.drop(columns=columns_to_drop)"
   ]
  },
  {
   "cell_type": "code",
   "execution_count": 11,
   "metadata": {},
   "outputs": [
    {
     "name": "stdout",
     "output_type": "stream",
     "text": [
      "~~ MISSING DATA ~~\n",
      "\n",
      "synchronous_malignancy: 2075 (18.34%)\n",
      "ajcc_pathologic_stage: 4368 (38.6%)\n",
      "days_to_last_follow_up: 2182 (19.28%)\n",
      "age_at_diagnosis: 273 (2.41%)\n",
      "prior_malignancy: 1294 (11.44%)\n",
      "prior_treatment: 156 (1.38%)\n",
      "race: 1147 (10.14%)\n",
      "gender: 152 (1.34%)\n",
      "ethnicity: 2519 (22.26%)\n",
      "vital_status: 164 (1.45%)\n",
      "days_to_death: 7713 (68.17%)\n",
      "treatments_pharmaceutical_treatment_or_therapy: 1448 (12.8%)\n",
      "treatments_radiation_treatment_or_therapy: 1388 (12.27%)\n"
     ]
    }
   ],
   "source": [
    "print('~~ MISSING DATA ~~')\n",
    "print()\n",
    "\n",
    "n = clinical.shape[0]\n",
    "\n",
    "for v in clinical.columns:\n",
    "    n_missing = sum(clinical[v].isnull())\n",
    "    if n_missing > 0:\n",
    "        if n_missing == n:\n",
    "            clinical = clinical.drop(columns=[v])\n",
    "        else:\n",
    "            print(f'{v}: {n_missing} ({round(n_missing / n * 100, 2)}%)')"
   ]
  },
  {
   "cell_type": "code",
   "execution_count": 12,
   "metadata": {},
   "outputs": [
    {
     "data": {
      "text/plain": [
       "(11315, 15)"
      ]
     },
     "execution_count": 12,
     "metadata": {},
     "output_type": "execute_result"
    }
   ],
   "source": [
    "clinical.shape"
   ]
  },
  {
   "cell_type": "code",
   "execution_count": 13,
   "metadata": {},
   "outputs": [
    {
     "data": {
      "text/plain": [
       "Index(['project', 'submitter_id', 'synchronous_malignancy',\n",
       "       'ajcc_pathologic_stage', 'days_to_last_follow_up', 'age_at_diagnosis',\n",
       "       'prior_malignancy', 'prior_treatment', 'race', 'gender', 'ethnicity',\n",
       "       'vital_status', 'days_to_death',\n",
       "       'treatments_pharmaceutical_treatment_or_therapy',\n",
       "       'treatments_radiation_treatment_or_therapy'],\n",
       "      dtype='object')"
      ]
     },
     "execution_count": 13,
     "metadata": {},
     "output_type": "execute_result"
    }
   ],
   "source": [
    "clinical.columns"
   ]
  },
  {
   "cell_type": "code",
   "execution_count": 14,
   "metadata": {},
   "outputs": [
    {
     "data": {
      "text/plain": [
       "female    5817\n",
       "male      5346\n",
       "Name: gender, dtype: int64"
      ]
     },
     "execution_count": 14,
     "metadata": {},
     "output_type": "execute_result"
    }
   ],
   "source": [
    "clinical['gender'].value_counts()"
   ]
  },
  {
   "cell_type": "code",
   "execution_count": 15,
   "metadata": {},
   "outputs": [
    {
     "data": {
      "text/plain": [
       "white                                        8457\n",
       "black or african american                     985\n",
       "asian                                         685\n",
       "american indian or alaska native               28\n",
       "native hawaiian or other pacific islander      13\n",
       "Name: race, dtype: int64"
      ]
     },
     "execution_count": 15,
     "metadata": {},
     "output_type": "execute_result"
    }
   ],
   "source": [
    "clinical['race'].value_counts()"
   ]
  },
  {
   "cell_type": "code",
   "execution_count": 16,
   "metadata": {},
   "outputs": [
    {
     "data": {
      "text/plain": [
       "not hispanic or latino    8412\n",
       "hispanic or latino         384\n",
       "Name: ethnicity, dtype: int64"
      ]
     },
     "execution_count": 16,
     "metadata": {},
     "output_type": "execute_result"
    }
   ],
   "source": [
    "clinical['ethnicity'].value_counts()"
   ]
  },
  {
   "cell_type": "code",
   "execution_count": 17,
   "metadata": {},
   "outputs": [
    {
     "data": {
      "text/plain": [
       "no     9092\n",
       "yes     929\n",
       "Name: prior_malignancy, dtype: int64"
      ]
     },
     "execution_count": 17,
     "metadata": {},
     "output_type": "execute_result"
    }
   ],
   "source": [
    "clinical['prior_malignancy'].value_counts()"
   ]
  },
  {
   "cell_type": "code",
   "execution_count": 18,
   "metadata": {},
   "outputs": [
    {
     "data": {
      "text/plain": [
       "Alive    7510\n",
       "Dead     3641\n",
       "Name: vital_status, dtype: int64"
      ]
     },
     "execution_count": 18,
     "metadata": {},
     "output_type": "execute_result"
    }
   ],
   "source": [
    "clinical['vital_status'].value_counts()"
   ]
  },
  {
   "cell_type": "code",
   "execution_count": 19,
   "metadata": {},
   "outputs": [
    {
     "data": {
      "text/plain": [
       "<matplotlib.axes._subplots.AxesSubplot at 0x7f42a69c8128>"
      ]
     },
     "execution_count": 19,
     "metadata": {},
     "output_type": "execute_result"
    },
    {
     "data": {
      "image/png": "[encoded data removed]",
      "text/plain": [
       "<Figure size 432x288 with 1 Axes>"
      ]
     },
     "metadata": {
      "needs_background": "light"
     },
     "output_type": "display_data"
    }
   ],
   "source": [
    "clinical['days_to_last_follow_up'].plot(kind='hist')"
   ]
  },
  {
   "cell_type": "code",
   "execution_count": 20,
   "metadata": {},
   "outputs": [
    {
     "data": {
      "text/plain": [
       "<matplotlib.axes._subplots.AxesSubplot at 0x7f42a68a0828>"
      ]
     },
     "execution_count": 20,
     "metadata": {},
     "output_type": "execute_result"
    },
    {
     "data": {
      "image/png": "[encoded data removed]",
      "text/plain": [
       "<Figure size 432x288 with 1 Axes>"
      ]
     },
     "metadata": {
      "needs_background": "light"
     },
     "output_type": "display_data"
    }
   ],
   "source": [
    "clinical['days_to_death'].plot(kind='box')"
   ]
  },
  {
   "cell_type": "code",
   "execution_count": 21,
   "metadata": {},
   "outputs": [
    {
     "data": {
      "text/plain": [
       "<matplotlib.axes._subplots.AxesSubplot at 0x7f42a687a080>"
      ]
     },
     "execution_count": 21,
     "metadata": {},
     "output_type": "execute_result"
    },
    {
     "data": {
      "image/png": "[encoded data removed]",
      "text/plain": [
       "<Figure size 432x288 with 1 Axes>"
      ]
     },
     "metadata": {
      "needs_background": "light"
     },
     "output_type": "display_data"
    }
   ],
   "source": [
    "clinical['days_to_death'].sort_values(ascending=False).plot(use_index=False)"
   ]
  },
  {
   "cell_type": "code",
   "execution_count": 22,
   "metadata": {},
   "outputs": [
    {
     "data": {
      "text/plain": [
       "<matplotlib.axes._subplots.AxesSubplot at 0x7f42a67c6320>"
      ]
     },
     "execution_count": 22,
     "metadata": {},
     "output_type": "execute_result"
    },
    {
     "data": {
      "image/png": "[encoded data removed]",
      "text/plain": [
       "<Figure size 432x288 with 1 Axes>"
      ]
     },
     "metadata": {
      "needs_background": "light"
     },
     "output_type": "display_data"
    }
   ],
   "source": [
    "clinical['days_to_last_follow_up'].plot(kind='box')"
   ]
  },
  {
   "cell_type": "code",
   "execution_count": 23,
   "metadata": {},
   "outputs": [
    {
     "data": {
      "text/plain": [
       "<matplotlib.axes._subplots.AxesSubplot at 0x7f42a6756390>"
      ]
     },
     "execution_count": 23,
     "metadata": {},
     "output_type": "execute_result"
    },
    {
     "data": {
      "image/png": "[encoded data removed]",
      "text/plain": [
       "<Figure size 432x288 with 1 Axes>"
      ]
     },
     "metadata": {
      "needs_background": "light"
     },
     "output_type": "display_data"
    }
   ],
   "source": [
    "clinical['age_at_diagnosis'].apply(lambda x: -x/365).plot(kind='box')"
   ]
  },
  {
   "cell_type": "code",
   "execution_count": 24,
   "metadata": {},
   "outputs": [
    {
     "data": {
      "text/plain": [
       "<matplotlib.axes._subplots.AxesSubplot at 0x7f42a6735be0>"
      ]
     },
     "execution_count": 24,
     "metadata": {},
     "output_type": "execute_result"
    },
    {
     "data": {
      "image/png": "[encoded data removed]",
      "text/plain": [
       "<Figure size 432x288 with 1 Axes>"
      ]
     },
     "metadata": {
      "needs_background": "light"
     },
     "output_type": "display_data"
    }
   ],
   "source": [
    "clinical['age_at_diagnosis'].sort_values(ascending=False).plot(use_index=False)"
   ]
  },
  {
   "cell_type": "code",
   "execution_count": 25,
   "metadata": {},
   "outputs": [
    {
     "data": {
      "text/html": [
       "<div>\n",
       "<style scoped>\n",
       "    .dataframe tbody tr th:only-of-type {\n",
       "        vertical-align: middle;\n",
       "    }\n",
       "\n",
       "    .dataframe tbody tr th {\n",
       "        vertical-align: top;\n",
       "    }\n",
       "\n",
       "    .dataframe thead th {\n",
       "        text-align: right;\n",
       "    }\n",
       "</style>\n",
       "<table border=\"1\" class=\"dataframe\">\n",
       "  <thead>\n",
       "    <tr style=\"text-align: right;\">\n",
       "      <th></th>\n",
       "      <th>days_to_last_follow_up</th>\n",
       "      <th>age_at_diagnosis</th>\n",
       "      <th>days_to_death</th>\n",
       "    </tr>\n",
       "  </thead>\n",
       "  <tbody>\n",
       "    <tr>\n",
       "      <th>count</th>\n",
       "      <td>9133.000000</td>\n",
       "      <td>11042.000000</td>\n",
       "      <td>3602.000000</td>\n",
       "    </tr>\n",
       "    <tr>\n",
       "      <th>mean</th>\n",
       "      <td>1034.453411</td>\n",
       "      <td>21763.424380</td>\n",
       "      <td>842.895614</td>\n",
       "    </tr>\n",
       "    <tr>\n",
       "      <th>std</th>\n",
       "      <td>1048.312617</td>\n",
       "      <td>5266.400415</td>\n",
       "      <td>943.257919</td>\n",
       "    </tr>\n",
       "    <tr>\n",
       "      <th>min</th>\n",
       "      <td>-64.000000</td>\n",
       "      <td>3982.000000</td>\n",
       "      <td>0.000000</td>\n",
       "    </tr>\n",
       "    <tr>\n",
       "      <th>25%</th>\n",
       "      <td>375.000000</td>\n",
       "      <td>18516.250000</td>\n",
       "      <td>273.000000</td>\n",
       "    </tr>\n",
       "    <tr>\n",
       "      <th>50%</th>\n",
       "      <td>717.000000</td>\n",
       "      <td>22223.500000</td>\n",
       "      <td>545.000000</td>\n",
       "    </tr>\n",
       "    <tr>\n",
       "      <th>75%</th>\n",
       "      <td>1373.000000</td>\n",
       "      <td>25611.250000</td>\n",
       "      <td>1088.000000</td>\n",
       "    </tr>\n",
       "    <tr>\n",
       "      <th>max</th>\n",
       "      <td>11252.000000</td>\n",
       "      <td>32872.000000</td>\n",
       "      <td>10870.000000</td>\n",
       "    </tr>\n",
       "  </tbody>\n",
       "</table>\n",
       "</div>"
      ],
      "text/plain": [
       "       days_to_last_follow_up  age_at_diagnosis  days_to_death\n",
       "count             9133.000000      11042.000000    3602.000000\n",
       "mean              1034.453411      21763.424380     842.895614\n",
       "std               1048.312617       5266.400415     943.257919\n",
       "min                -64.000000       3982.000000       0.000000\n",
       "25%                375.000000      18516.250000     273.000000\n",
       "50%                717.000000      22223.500000     545.000000\n",
       "75%               1373.000000      25611.250000    1088.000000\n",
       "max              11252.000000      32872.000000   10870.000000"
      ]
     },
     "execution_count": 25,
     "metadata": {},
     "output_type": "execute_result"
    }
   ],
   "source": [
    "clinical.describe()"
   ]
  },
  {
   "cell_type": "code",
   "execution_count": 26,
   "metadata": {},
   "outputs": [
    {
     "name": "stdout",
     "output_type": "stream",
     "text": [
      "<class 'pandas.core.frame.DataFrame'>\n",
      "RangeIndex: 11315 entries, 0 to 11314\n",
      "Data columns (total 15 columns):\n",
      " #   Column                                          Non-Null Count  Dtype  \n",
      "---  ------                                          --------------  -----  \n",
      " 0   project                                         11315 non-null  object \n",
      " 1   submitter_id                                    11315 non-null  object \n",
      " 2   synchronous_malignancy                          9240 non-null   object \n",
      " 3   ajcc_pathologic_stage                           6947 non-null   object \n",
      " 4   days_to_last_follow_up                          9133 non-null   float64\n",
      " 5   age_at_diagnosis                                11042 non-null  float64\n",
      " 6   prior_malignancy                                10021 non-null  object \n",
      " 7   prior_treatment                                 11159 non-null  object \n",
      " 8   race                                            10168 non-null  object \n",
      " 9   gender                                          11163 non-null  object \n",
      " 10  ethnicity                                       8796 non-null   object \n",
      " 11  vital_status                                    11151 non-null  object \n",
      " 12  days_to_death                                   3602 non-null   float64\n",
      " 13  treatments_pharmaceutical_treatment_or_therapy  9867 non-null   object \n",
      " 14  treatments_radiation_treatment_or_therapy       9927 non-null   object \n",
      "dtypes: float64(3), object(12)\n",
      "memory usage: 1.3+ MB\n"
     ]
    }
   ],
   "source": [
    "clinical.info()"
   ]
  },
  {
   "cell_type": "markdown",
   "metadata": {},
   "source": [
    "Rename `disease` column as `project_id` and set it as table index."
   ]
  },
  {
   "cell_type": "code",
   "execution_count": 27,
   "metadata": {},
   "outputs": [],
   "source": [
    "clinical = clinical.rename(columns={'project': 'project_id'})\n",
    "clinical = clinical.rename(columns={'ajcc_pathologic_stage': 'tumor_stage'})"
   ]
  },
  {
   "cell_type": "code",
   "execution_count": 28,
   "metadata": {},
   "outputs": [],
   "source": [
    "clinical = clinical.set_index('submitter_id')"
   ]
  },
  {
   "cell_type": "markdown",
   "metadata": {},
   "source": [
    "# Clean up inconsistencies"
   ]
  },
  {
   "cell_type": "markdown",
   "metadata": {},
   "source": [
    "## Consolidate `race` and `ethnicity`\n",
    "\n",
    "Whenever `race` value is \"white\" or missing replace it by `ethnicity` value (if present). Then drop ethnicity column."
   ]
  },
  {
   "cell_type": "code",
   "execution_count": 29,
   "metadata": {},
   "outputs": [],
   "source": [
    "race_subset = clinical['race'].isnull()\n",
    "ethnicity_subset = ~clinical['ethnicity'].isnull()\n",
    "subset = race_subset & ethnicity_subset\n",
    "clinical.loc[subset, 'race'] = clinical.loc[subset, 'ethnicity']"
   ]
  },
  {
   "cell_type": "code",
   "execution_count": 30,
   "metadata": {},
   "outputs": [],
   "source": [
    "race_subset = (clinical['race'] == 'white')\n",
    "ethnicity_subset = (~clinical['ethnicity'].isnull() &\n",
    "                    (clinical['ethnicity'] == 'hispanic or latino'))\n",
    "subset = race_subset & ethnicity_subset\n",
    "clinical.loc[subset, 'race'] = clinical.loc[subset, 'ethnicity']"
   ]
  },
  {
   "cell_type": "code",
   "execution_count": 31,
   "metadata": {},
   "outputs": [
    {
     "data": {
      "text/plain": [
       "(8144, 14)"
      ]
     },
     "execution_count": 31,
     "metadata": {},
     "output_type": "execute_result"
    }
   ],
   "source": [
    "clinical.loc[clinical['race'] == 'white', ].shape"
   ]
  },
  {
   "cell_type": "code",
   "execution_count": 32,
   "metadata": {},
   "outputs": [],
   "source": [
    "clinical = clinical.drop('ethnicity', axis=1)"
   ]
  },
  {
   "cell_type": "markdown",
   "metadata": {},
   "source": [
    "## Missing label data\n",
    "\n",
    "The data show some inconsistencies, such as patients missing `vital_status` information, showing negative `days_to_last_follow_up` values, or missing `days_to_death` values. This is addressed in a few discussions under GitHub issues. [In one of them](https://github.com/BioinformaticsFMRP/TCGAbiolinks/issues/324) someone asked and got the following explanation from the GDC:\n",
    "\n",
    "> \"I have talked to our Clinical Data Scientist and she said that these values can seem strange due to how TCGA and third parties handled patient data. For the negative follow up dates, this can be caused by the pathology report being made at a secondary institution that does the surgery, even though the patient was diagnosed at a local hospital. The larger institution/center eventually reports back the pathologic findings from the surgery, but they never receive follow-up information about the patient. Thus, the days to diagnosis would have been the date the pathology report was signed out, which is always day 0, but the last time the patient was seen relative to that date could have been days or weeks prior to that report being signed out. Basically, we are aware that these negative dates exist, and they are caused by pathology report dates taking priority as day 0. For the patients without days_to_death, this is the case that they knew the patient was deceased, but they were uncertain of the exact date. Thus, when filling out the clinical information they left this intentionally blank..\"\n",
    "\n",
    "Here, I will simply drop these patients from data. I did manually check on the online database the negative values, which matched my downloaded data."
   ]
  },
  {
   "cell_type": "markdown",
   "metadata": {},
   "source": [
    "### `vital_status`"
   ]
  },
  {
   "cell_type": "code",
   "execution_count": 33,
   "metadata": {},
   "outputs": [
    {
     "name": "stdout",
     "output_type": "stream",
     "text": [
      "~~ MISSING DATA ~~\n",
      "\n",
      "synchronous_malignancy: 2075 (18.34%)\n",
      "tumor_stage: 4368 (38.6%)\n",
      "prior_treatment: 156 (1.38%)\n",
      "vital_status: 164 (1.45%)\n",
      "treatments_pharmaceutical_treatment_or_therapy: 1448 (12.8%)\n",
      "treatments_radiation_treatment_or_therapy: 1388 (12.27%)\n"
     ]
    }
   ],
   "source": [
    "print('~~ MISSING DATA ~~')\n",
    "print()\n",
    "skip = ['project_id', 'gender', 'race', 'ethnicity', 'prior_malignancy',\n",
    "        'age_at_diagnosis', 'days_to_death', 'days_to_last_follow_up']\n",
    "\n",
    "n = clinical.shape[0]\n",
    "\n",
    "for v in clinical.columns:\n",
    "    if v not in skip:\n",
    "        n_missing = sum(clinical[v].isnull())\n",
    "        print(f'{v}: {n_missing} ({round(n_missing / n * 100, 2)}%)')"
   ]
  },
  {
   "cell_type": "code",
   "execution_count": 34,
   "metadata": {},
   "outputs": [],
   "source": [
    "# Drop patients missing \"vital_status\" information\n",
    "subset = ~clinical.vital_status.isna()\n",
    "clinical = clinical.loc[subset]"
   ]
  },
  {
   "cell_type": "markdown",
   "metadata": {},
   "source": [
    "### Both duration values\n",
    "\n",
    "Patients missing both time to death and time to last follow up variables cannot be included in a survival study."
   ]
  },
  {
   "cell_type": "code",
   "execution_count": 35,
   "metadata": {},
   "outputs": [
    {
     "name": "stdout",
     "output_type": "stream",
     "text": [
      "# patients missing both duration columns: 53\n"
     ]
    }
   ],
   "source": [
    "missing_duration_data = clinical[\n",
    "    clinical['days_to_death'].isna() &\n",
    "    clinical['days_to_last_follow_up'].isna()]\n",
    "\n",
    "print('# patients missing both duration columns:', missing_duration_data.shape[0])"
   ]
  },
  {
   "cell_type": "code",
   "execution_count": 36,
   "metadata": {},
   "outputs": [
    {
     "data": {
      "text/html": [
       "<div>\n",
       "<style scoped>\n",
       "    .dataframe tbody tr th:only-of-type {\n",
       "        vertical-align: middle;\n",
       "    }\n",
       "\n",
       "    .dataframe tbody tr th {\n",
       "        vertical-align: top;\n",
       "    }\n",
       "\n",
       "    .dataframe thead th {\n",
       "        text-align: right;\n",
       "    }\n",
       "</style>\n",
       "<table border=\"1\" class=\"dataframe\">\n",
       "  <thead>\n",
       "    <tr style=\"text-align: right;\">\n",
       "      <th></th>\n",
       "      <th>project_id</th>\n",
       "      <th>synchronous_malignancy</th>\n",
       "      <th>tumor_stage</th>\n",
       "      <th>days_to_last_follow_up</th>\n",
       "      <th>age_at_diagnosis</th>\n",
       "      <th>prior_malignancy</th>\n",
       "      <th>prior_treatment</th>\n",
       "      <th>race</th>\n",
       "      <th>gender</th>\n",
       "      <th>vital_status</th>\n",
       "      <th>days_to_death</th>\n",
       "      <th>treatments_pharmaceutical_treatment_or_therapy</th>\n",
       "      <th>treatments_radiation_treatment_or_therapy</th>\n",
       "    </tr>\n",
       "    <tr>\n",
       "      <th>submitter_id</th>\n",
       "      <th></th>\n",
       "      <th></th>\n",
       "      <th></th>\n",
       "      <th></th>\n",
       "      <th></th>\n",
       "      <th></th>\n",
       "      <th></th>\n",
       "      <th></th>\n",
       "      <th></th>\n",
       "      <th></th>\n",
       "      <th></th>\n",
       "      <th></th>\n",
       "      <th></th>\n",
       "    </tr>\n",
       "  </thead>\n",
       "  <tbody>\n",
       "    <tr>\n",
       "      <th>TCGA-AJ-A3BH</th>\n",
       "      <td>TCGA-UCEC</td>\n",
       "      <td>No</td>\n",
       "      <td>NaN</td>\n",
       "      <td>NaN</td>\n",
       "      <td>NaN</td>\n",
       "      <td>no</td>\n",
       "      <td>No</td>\n",
       "      <td>white</td>\n",
       "      <td>female</td>\n",
       "      <td>Alive</td>\n",
       "      <td>NaN</td>\n",
       "      <td>NaN</td>\n",
       "      <td>NaN</td>\n",
       "    </tr>\n",
       "    <tr>\n",
       "      <th>TCGA-AB-2943</th>\n",
       "      <td>TCGA-LAML</td>\n",
       "      <td>No</td>\n",
       "      <td>NaN</td>\n",
       "      <td>NaN</td>\n",
       "      <td>25568.0</td>\n",
       "      <td>no</td>\n",
       "      <td>No</td>\n",
       "      <td>white</td>\n",
       "      <td>female</td>\n",
       "      <td>Dead</td>\n",
       "      <td>NaN</td>\n",
       "      <td>NaN</td>\n",
       "      <td>NaN</td>\n",
       "    </tr>\n",
       "    <tr>\n",
       "      <th>TCGA-AB-2907</th>\n",
       "      <td>TCGA-LAML</td>\n",
       "      <td>No</td>\n",
       "      <td>NaN</td>\n",
       "      <td>NaN</td>\n",
       "      <td>25264.0</td>\n",
       "      <td>no</td>\n",
       "      <td>No</td>\n",
       "      <td>white</td>\n",
       "      <td>male</td>\n",
       "      <td>Dead</td>\n",
       "      <td>NaN</td>\n",
       "      <td>NaN</td>\n",
       "      <td>NaN</td>\n",
       "    </tr>\n",
       "    <tr>\n",
       "      <th>TCGA-AB-2944</th>\n",
       "      <td>TCGA-LAML</td>\n",
       "      <td>No</td>\n",
       "      <td>NaN</td>\n",
       "      <td>NaN</td>\n",
       "      <td>17622.0</td>\n",
       "      <td>no</td>\n",
       "      <td>Yes</td>\n",
       "      <td>white</td>\n",
       "      <td>male</td>\n",
       "      <td>Dead</td>\n",
       "      <td>NaN</td>\n",
       "      <td>NaN</td>\n",
       "      <td>NaN</td>\n",
       "    </tr>\n",
       "    <tr>\n",
       "      <th>TCGA-AB-2918</th>\n",
       "      <td>TCGA-LAML</td>\n",
       "      <td>No</td>\n",
       "      <td>NaN</td>\n",
       "      <td>NaN</td>\n",
       "      <td>17198.0</td>\n",
       "      <td>no</td>\n",
       "      <td>Yes</td>\n",
       "      <td>white</td>\n",
       "      <td>female</td>\n",
       "      <td>Dead</td>\n",
       "      <td>NaN</td>\n",
       "      <td>NaN</td>\n",
       "      <td>NaN</td>\n",
       "    </tr>\n",
       "  </tbody>\n",
       "</table>\n",
       "</div>"
      ],
      "text/plain": [
       "             project_id synchronous_malignancy tumor_stage  \\\n",
       "submitter_id                                                 \n",
       "TCGA-AJ-A3BH  TCGA-UCEC                     No         NaN   \n",
       "TCGA-AB-2943  TCGA-LAML                     No         NaN   \n",
       "TCGA-AB-2907  TCGA-LAML                     No         NaN   \n",
       "TCGA-AB-2944  TCGA-LAML                     No         NaN   \n",
       "TCGA-AB-2918  TCGA-LAML                     No         NaN   \n",
       "\n",
       "              days_to_last_follow_up  age_at_diagnosis prior_malignancy  \\\n",
       "submitter_id                                                              \n",
       "TCGA-AJ-A3BH                     NaN               NaN               no   \n",
       "TCGA-AB-2943                     NaN           25568.0               no   \n",
       "TCGA-AB-2907                     NaN           25264.0               no   \n",
       "TCGA-AB-2944                     NaN           17622.0               no   \n",
       "TCGA-AB-2918                     NaN           17198.0               no   \n",
       "\n",
       "             prior_treatment   race  gender vital_status  days_to_death  \\\n",
       "submitter_id                                                              \n",
       "TCGA-AJ-A3BH              No  white  female        Alive            NaN   \n",
       "TCGA-AB-2943              No  white  female         Dead            NaN   \n",
       "TCGA-AB-2907              No  white    male         Dead            NaN   \n",
       "TCGA-AB-2944             Yes  white    male         Dead            NaN   \n",
       "TCGA-AB-2918             Yes  white  female         Dead            NaN   \n",
       "\n",
       "             treatments_pharmaceutical_treatment_or_therapy  \\\n",
       "submitter_id                                                  \n",
       "TCGA-AJ-A3BH                                            NaN   \n",
       "TCGA-AB-2943                                            NaN   \n",
       "TCGA-AB-2907                                            NaN   \n",
       "TCGA-AB-2944                                            NaN   \n",
       "TCGA-AB-2918                                            NaN   \n",
       "\n",
       "             treatments_radiation_treatment_or_therapy  \n",
       "submitter_id                                            \n",
       "TCGA-AJ-A3BH                                       NaN  \n",
       "TCGA-AB-2943                                       NaN  \n",
       "TCGA-AB-2907                                       NaN  \n",
       "TCGA-AB-2944                                       NaN  \n",
       "TCGA-AB-2918                                       NaN  "
      ]
     },
     "execution_count": 36,
     "metadata": {},
     "output_type": "execute_result"
    }
   ],
   "source": [
    "missing_duration_data.head()"
   ]
  },
  {
   "cell_type": "code",
   "execution_count": 37,
   "metadata": {},
   "outputs": [],
   "source": [
    "# Remove missing data\n",
    "subset = ~(clinical['days_to_death'].isna() &\n",
    "           clinical['days_to_last_follow_up'].isna())\n",
    "clinical = clinical.loc[subset]"
   ]
  },
  {
   "cell_type": "code",
   "execution_count": 38,
   "metadata": {},
   "outputs": [
    {
     "data": {
      "text/plain": [
       "(11098, 13)"
      ]
     },
     "execution_count": 38,
     "metadata": {},
     "output_type": "execute_result"
    }
   ],
   "source": [
    "clinical.shape"
   ]
  },
  {
   "cell_type": "markdown",
   "metadata": {},
   "source": [
    "### Required duration value\n",
    "\n",
    "Patients alive at the end of the study require time to last follow up information. Dead patients require time to death information."
   ]
  },
  {
   "cell_type": "code",
   "execution_count": 39,
   "metadata": {},
   "outputs": [
    {
     "name": "stdout",
     "output_type": "stream",
     "text": [
      "# patients missing \"days_to_last_follow_up\" when \"vital_status\" is \"Alive\": 0\n"
     ]
    }
   ],
   "source": [
    "print('# patients missing \"days_to_last_follow_up\" when \"vital_status\" is \"Alive\":',\n",
    "      clinical[(clinical.vital_status == 'Alive') &\n",
    "               clinical.days_to_last_follow_up.isna()].shape[0])"
   ]
  },
  {
   "cell_type": "code",
   "execution_count": 40,
   "metadata": {},
   "outputs": [
    {
     "name": "stdout",
     "output_type": "stream",
     "text": [
      "# patients missing \"days_to_death\" when \"vital_status\" is \"Dead\": 11\n"
     ]
    }
   ],
   "source": [
    "print('# patients missing \"days_to_death\" when \"vital_status\" is \"Dead\":',\n",
    "      clinical[(clinical.vital_status == 'Dead') &\n",
    "               clinical.days_to_death.isna()].shape[0])"
   ]
  },
  {
   "cell_type": "code",
   "execution_count": 41,
   "metadata": {},
   "outputs": [],
   "source": [
    "# Remove missing data\n",
    "subset = ~((clinical.vital_status == 'Dead') &\n",
    "           clinical.days_to_death.isna())\n",
    "clinical = clinical.loc[subset]"
   ]
  },
  {
   "cell_type": "markdown",
   "metadata": {},
   "source": [
    "## Not missing `days_to_last_follow_up` when `vital_status` is \"Dead\""
   ]
  },
  {
   "cell_type": "code",
   "execution_count": 42,
   "metadata": {},
   "outputs": [
    {
     "name": "stdout",
     "output_type": "stream",
     "text": [
      "\"Days to death\" variable missing for all patients still alive? True\n"
     ]
    }
   ],
   "source": [
    "print('\"Days to death\" variable missing for all patients still alive?',\n",
    "      all(clinical[clinical.vital_status == 'Alive'].days_to_death.isna()))"
   ]
  },
  {
   "cell_type": "code",
   "execution_count": 43,
   "metadata": {},
   "outputs": [
    {
     "name": "stdout",
     "output_type": "stream",
     "text": [
      "\"Days to last follow up\" variable missing for all dead patients? False\n"
     ]
    }
   ],
   "source": [
    "print('\"Days to last follow up\" variable missing for all dead patients?',\n",
    "      all(clinical[clinical.vital_status == 'Dead'].days_to_last_follow_up.isna()))"
   ]
  },
  {
   "cell_type": "code",
   "execution_count": 44,
   "metadata": {},
   "outputs": [],
   "source": [
    "# Insert \"NaN\" in \"days_to_last_follow_up\" when \"vital_status\" is \"Dead\" \n",
    "subset = clinical.vital_status == 'Dead'\n",
    "clinical.loc[subset, 'days_to_last_follow_up'] = None"
   ]
  },
  {
   "cell_type": "code",
   "execution_count": 45,
   "metadata": {},
   "outputs": [
    {
     "name": "stdout",
     "output_type": "stream",
     "text": [
      "\"Days to last follow up\" variable missing for all dead patients? True\n"
     ]
    }
   ],
   "source": [
    "print('\"Days to last follow up\" variable missing for all dead patients?',\n",
    "      all(clinical[clinical.vital_status == 'Dead'].days_to_last_follow_up.isna()))"
   ]
  },
  {
   "cell_type": "markdown",
   "metadata": {},
   "source": [
    "## Negative durations"
   ]
  },
  {
   "cell_type": "code",
   "execution_count": 46,
   "metadata": {
    "scrolled": true
   },
   "outputs": [
    {
     "data": {
      "text/html": [
       "<div>\n",
       "<style scoped>\n",
       "    .dataframe tbody tr th:only-of-type {\n",
       "        vertical-align: middle;\n",
       "    }\n",
       "\n",
       "    .dataframe tbody tr th {\n",
       "        vertical-align: top;\n",
       "    }\n",
       "\n",
       "    .dataframe thead th {\n",
       "        text-align: right;\n",
       "    }\n",
       "</style>\n",
       "<table border=\"1\" class=\"dataframe\">\n",
       "  <thead>\n",
       "    <tr style=\"text-align: right;\">\n",
       "      <th></th>\n",
       "      <th>project_id</th>\n",
       "      <th>synchronous_malignancy</th>\n",
       "      <th>tumor_stage</th>\n",
       "      <th>days_to_last_follow_up</th>\n",
       "      <th>age_at_diagnosis</th>\n",
       "      <th>prior_malignancy</th>\n",
       "      <th>prior_treatment</th>\n",
       "      <th>race</th>\n",
       "      <th>gender</th>\n",
       "      <th>vital_status</th>\n",
       "      <th>days_to_death</th>\n",
       "      <th>treatments_pharmaceutical_treatment_or_therapy</th>\n",
       "      <th>treatments_radiation_treatment_or_therapy</th>\n",
       "    </tr>\n",
       "    <tr>\n",
       "      <th>submitter_id</th>\n",
       "      <th></th>\n",
       "      <th></th>\n",
       "      <th></th>\n",
       "      <th></th>\n",
       "      <th></th>\n",
       "      <th></th>\n",
       "      <th></th>\n",
       "      <th></th>\n",
       "      <th></th>\n",
       "      <th></th>\n",
       "      <th></th>\n",
       "      <th></th>\n",
       "      <th></th>\n",
       "    </tr>\n",
       "  </thead>\n",
       "  <tbody>\n",
       "    <tr>\n",
       "      <th>TCGA-AX-A3FV</th>\n",
       "      <td>TCGA-UCEC</td>\n",
       "      <td>No</td>\n",
       "      <td>NaN</td>\n",
       "      <td>-6.0</td>\n",
       "      <td>22752.0</td>\n",
       "      <td>no</td>\n",
       "      <td>No</td>\n",
       "      <td>white</td>\n",
       "      <td>female</td>\n",
       "      <td>Alive</td>\n",
       "      <td>NaN</td>\n",
       "      <td>NaN</td>\n",
       "      <td>NaN</td>\n",
       "    </tr>\n",
       "    <tr>\n",
       "      <th>TCGA-NQ-A638</th>\n",
       "      <td>TCGA-MESO</td>\n",
       "      <td>No</td>\n",
       "      <td>Stage II</td>\n",
       "      <td>-8.0</td>\n",
       "      <td>24410.0</td>\n",
       "      <td>no</td>\n",
       "      <td>No</td>\n",
       "      <td>white</td>\n",
       "      <td>male</td>\n",
       "      <td>Alive</td>\n",
       "      <td>NaN</td>\n",
       "      <td>NaN</td>\n",
       "      <td>NaN</td>\n",
       "    </tr>\n",
       "    <tr>\n",
       "      <th>TCGA-TQ-A7RS</th>\n",
       "      <td>TCGA-LGG</td>\n",
       "      <td>No</td>\n",
       "      <td>NaN</td>\n",
       "      <td>-1.0</td>\n",
       "      <td>9172.0</td>\n",
       "      <td>no</td>\n",
       "      <td>No</td>\n",
       "      <td>hispanic or latino</td>\n",
       "      <td>female</td>\n",
       "      <td>Alive</td>\n",
       "      <td>NaN</td>\n",
       "      <td>no</td>\n",
       "      <td>no</td>\n",
       "    </tr>\n",
       "    <tr>\n",
       "      <th>TCGA-CF-A9FH</th>\n",
       "      <td>TCGA-BLCA</td>\n",
       "      <td>No</td>\n",
       "      <td>Stage II</td>\n",
       "      <td>-64.0</td>\n",
       "      <td>31236.0</td>\n",
       "      <td>no</td>\n",
       "      <td>No</td>\n",
       "      <td>asian</td>\n",
       "      <td>male</td>\n",
       "      <td>Alive</td>\n",
       "      <td>NaN</td>\n",
       "      <td>no</td>\n",
       "      <td>no</td>\n",
       "    </tr>\n",
       "    <tr>\n",
       "      <th>TCGA-EB-A430</th>\n",
       "      <td>TCGA-SKCM</td>\n",
       "      <td>No</td>\n",
       "      <td>Stage IIC</td>\n",
       "      <td>-2.0</td>\n",
       "      <td>30344.0</td>\n",
       "      <td>no</td>\n",
       "      <td>No</td>\n",
       "      <td>white</td>\n",
       "      <td>male</td>\n",
       "      <td>Alive</td>\n",
       "      <td>NaN</td>\n",
       "      <td>no</td>\n",
       "      <td>no</td>\n",
       "    </tr>\n",
       "    <tr>\n",
       "      <th>TCGA-PL-A8LV</th>\n",
       "      <td>TCGA-BRCA</td>\n",
       "      <td>No</td>\n",
       "      <td>Stage IIIB</td>\n",
       "      <td>-7.0</td>\n",
       "      <td>19746.0</td>\n",
       "      <td>no</td>\n",
       "      <td>No</td>\n",
       "      <td>black or african american</td>\n",
       "      <td>female</td>\n",
       "      <td>Alive</td>\n",
       "      <td>NaN</td>\n",
       "      <td>NaN</td>\n",
       "      <td>no</td>\n",
       "    </tr>\n",
       "  </tbody>\n",
       "</table>\n",
       "</div>"
      ],
      "text/plain": [
       "             project_id synchronous_malignancy tumor_stage  \\\n",
       "submitter_id                                                 \n",
       "TCGA-AX-A3FV  TCGA-UCEC                     No         NaN   \n",
       "TCGA-NQ-A638  TCGA-MESO                     No    Stage II   \n",
       "TCGA-TQ-A7RS   TCGA-LGG                     No         NaN   \n",
       "TCGA-CF-A9FH  TCGA-BLCA                     No    Stage II   \n",
       "TCGA-EB-A430  TCGA-SKCM                     No   Stage IIC   \n",
       "TCGA-PL-A8LV  TCGA-BRCA                     No  Stage IIIB   \n",
       "\n",
       "              days_to_last_follow_up  age_at_diagnosis prior_malignancy  \\\n",
       "submitter_id                                                              \n",
       "TCGA-AX-A3FV                    -6.0           22752.0               no   \n",
       "TCGA-NQ-A638                    -8.0           24410.0               no   \n",
       "TCGA-TQ-A7RS                    -1.0            9172.0               no   \n",
       "TCGA-CF-A9FH                   -64.0           31236.0               no   \n",
       "TCGA-EB-A430                    -2.0           30344.0               no   \n",
       "TCGA-PL-A8LV                    -7.0           19746.0               no   \n",
       "\n",
       "             prior_treatment                       race  gender vital_status  \\\n",
       "submitter_id                                                                   \n",
       "TCGA-AX-A3FV              No                      white  female        Alive   \n",
       "TCGA-NQ-A638              No                      white    male        Alive   \n",
       "TCGA-TQ-A7RS              No         hispanic or latino  female        Alive   \n",
       "TCGA-CF-A9FH              No                      asian    male        Alive   \n",
       "TCGA-EB-A430              No                      white    male        Alive   \n",
       "TCGA-PL-A8LV              No  black or african american  female        Alive   \n",
       "\n",
       "              days_to_death treatments_pharmaceutical_treatment_or_therapy  \\\n",
       "submitter_id                                                                 \n",
       "TCGA-AX-A3FV            NaN                                            NaN   \n",
       "TCGA-NQ-A638            NaN                                            NaN   \n",
       "TCGA-TQ-A7RS            NaN                                             no   \n",
       "TCGA-CF-A9FH            NaN                                             no   \n",
       "TCGA-EB-A430            NaN                                             no   \n",
       "TCGA-PL-A8LV            NaN                                            NaN   \n",
       "\n",
       "             treatments_radiation_treatment_or_therapy  \n",
       "submitter_id                                            \n",
       "TCGA-AX-A3FV                                       NaN  \n",
       "TCGA-NQ-A638                                       NaN  \n",
       "TCGA-TQ-A7RS                                        no  \n",
       "TCGA-CF-A9FH                                        no  \n",
       "TCGA-EB-A430                                        no  \n",
       "TCGA-PL-A8LV                                        no  "
      ]
     },
     "execution_count": 46,
     "metadata": {},
     "output_type": "execute_result"
    }
   ],
   "source": [
    "clinical[clinical.days_to_last_follow_up < 0]"
   ]
  },
  {
   "cell_type": "code",
   "execution_count": 47,
   "metadata": {},
   "outputs": [],
   "source": [
    "# Remove data\n",
    "subset = ~((clinical.days_to_last_follow_up < 0) &\n",
    "           (clinical.vital_status == 'Alive'))\n",
    "clinical = clinical.loc[subset]"
   ]
  },
  {
   "cell_type": "code",
   "execution_count": 48,
   "metadata": {},
   "outputs": [
    {
     "data": {
      "text/plain": [
       "(11081, 13)"
      ]
     },
     "execution_count": 48,
     "metadata": {},
     "output_type": "execute_result"
    }
   ],
   "source": [
    "clinical.shape"
   ]
  },
  {
   "cell_type": "markdown",
   "metadata": {},
   "source": [
    "# Label data\n",
    "\n",
    "Collect duration label: `days_to_last_follow_up` and `days_to_death` for live and dead patients, respectively."
   ]
  },
  {
   "cell_type": "code",
   "execution_count": 49,
   "metadata": {},
   "outputs": [],
   "source": [
    "def get_duration(vital_status, days_to_death, days_to_last_follow_up):\n",
    "    if vital_status == 'Dead':\n",
    "        return days_to_death\n",
    "    elif vital_status == 'Alive':\n",
    "        return days_to_last_follow_up\n",
    "    else:\n",
    "        print('Found NaN in duration!')\n",
    "\n",
    "def get_events(vital_status):\n",
    "    if vital_status in ['1', 'Dead']:\n",
    "        return 1\n",
    "    elif vital_status in ['0', 'Alive']:\n",
    "        return 0\n",
    "    else:\n",
    "        print('Found NaN in vital status!')"
   ]
  },
  {
   "cell_type": "code",
   "execution_count": 50,
   "metadata": {},
   "outputs": [],
   "source": [
    "d = {'submitter_id': clinical.index,\n",
    "     'time': clinical.apply(\n",
    "         lambda x: get_duration(x['vital_status'], x['days_to_death'],\n",
    "                                x['days_to_last_follow_up']), axis=1).values,\n",
    "     'event': clinical.apply(\n",
    "         lambda x: get_events(x['vital_status']), axis=1).values}"
   ]
  },
  {
   "cell_type": "code",
   "execution_count": 51,
   "metadata": {},
   "outputs": [],
   "source": [
    "survival = pd.DataFrame.from_dict(d).astype(\n",
    "    {'submitter_id': 'object', 'time': 'int64', 'event': 'int64'})"
   ]
  },
  {
   "cell_type": "code",
   "execution_count": 52,
   "metadata": {},
   "outputs": [],
   "source": [
    "clinical = clinical.join(survival.set_index('submitter_id'))"
   ]
  },
  {
   "cell_type": "code",
   "execution_count": 53,
   "metadata": {},
   "outputs": [
    {
     "data": {
      "text/html": [
       "<div>\n",
       "<style scoped>\n",
       "    .dataframe tbody tr th:only-of-type {\n",
       "        vertical-align: middle;\n",
       "    }\n",
       "\n",
       "    .dataframe tbody tr th {\n",
       "        vertical-align: top;\n",
       "    }\n",
       "\n",
       "    .dataframe thead th {\n",
       "        text-align: right;\n",
       "    }\n",
       "</style>\n",
       "<table border=\"1\" class=\"dataframe\">\n",
       "  <thead>\n",
       "    <tr style=\"text-align: right;\">\n",
       "      <th></th>\n",
       "      <th>project_id</th>\n",
       "      <th>synchronous_malignancy</th>\n",
       "      <th>tumor_stage</th>\n",
       "      <th>days_to_last_follow_up</th>\n",
       "      <th>age_at_diagnosis</th>\n",
       "      <th>prior_malignancy</th>\n",
       "      <th>prior_treatment</th>\n",
       "      <th>race</th>\n",
       "      <th>gender</th>\n",
       "      <th>vital_status</th>\n",
       "      <th>days_to_death</th>\n",
       "      <th>treatments_pharmaceutical_treatment_or_therapy</th>\n",
       "      <th>treatments_radiation_treatment_or_therapy</th>\n",
       "      <th>time</th>\n",
       "      <th>event</th>\n",
       "    </tr>\n",
       "    <tr>\n",
       "      <th>submitter_id</th>\n",
       "      <th></th>\n",
       "      <th></th>\n",
       "      <th></th>\n",
       "      <th></th>\n",
       "      <th></th>\n",
       "      <th></th>\n",
       "      <th></th>\n",
       "      <th></th>\n",
       "      <th></th>\n",
       "      <th></th>\n",
       "      <th></th>\n",
       "      <th></th>\n",
       "      <th></th>\n",
       "      <th></th>\n",
       "      <th></th>\n",
       "    </tr>\n",
       "  </thead>\n",
       "  <tbody>\n",
       "    <tr>\n",
       "      <th>TCGA-2H-A9GL</th>\n",
       "      <td>TCGA-ESCA</td>\n",
       "      <td>No</td>\n",
       "      <td>Stage III</td>\n",
       "      <td>NaN</td>\n",
       "      <td>27115.0</td>\n",
       "      <td>no</td>\n",
       "      <td>No</td>\n",
       "      <td>NaN</td>\n",
       "      <td>male</td>\n",
       "      <td>Dead</td>\n",
       "      <td>180.0</td>\n",
       "      <td>no</td>\n",
       "      <td>no</td>\n",
       "      <td>180</td>\n",
       "      <td>1</td>\n",
       "    </tr>\n",
       "    <tr>\n",
       "      <th>TCGA-L5-A4OM</th>\n",
       "      <td>TCGA-ESCA</td>\n",
       "      <td>No</td>\n",
       "      <td>Stage IA</td>\n",
       "      <td>NaN</td>\n",
       "      <td>19845.0</td>\n",
       "      <td>no</td>\n",
       "      <td>No</td>\n",
       "      <td>white</td>\n",
       "      <td>female</td>\n",
       "      <td>Dead</td>\n",
       "      <td>1458.0</td>\n",
       "      <td>no</td>\n",
       "      <td>no</td>\n",
       "      <td>1458</td>\n",
       "      <td>1</td>\n",
       "    </tr>\n",
       "    <tr>\n",
       "      <th>TCGA-S8-A6BW</th>\n",
       "      <td>TCGA-ESCA</td>\n",
       "      <td>No</td>\n",
       "      <td>Stage IB</td>\n",
       "      <td>620.0</td>\n",
       "      <td>18944.0</td>\n",
       "      <td>no</td>\n",
       "      <td>No</td>\n",
       "      <td>white</td>\n",
       "      <td>male</td>\n",
       "      <td>Alive</td>\n",
       "      <td>NaN</td>\n",
       "      <td>no</td>\n",
       "      <td>no</td>\n",
       "      <td>620</td>\n",
       "      <td>0</td>\n",
       "    </tr>\n",
       "    <tr>\n",
       "      <th>TCGA-LN-A4A9</th>\n",
       "      <td>TCGA-ESCA</td>\n",
       "      <td>No</td>\n",
       "      <td>Stage IIA</td>\n",
       "      <td>NaN</td>\n",
       "      <td>21217.0</td>\n",
       "      <td>no</td>\n",
       "      <td>No</td>\n",
       "      <td>asian</td>\n",
       "      <td>male</td>\n",
       "      <td>Dead</td>\n",
       "      <td>351.0</td>\n",
       "      <td>no</td>\n",
       "      <td>no</td>\n",
       "      <td>351</td>\n",
       "      <td>1</td>\n",
       "    </tr>\n",
       "    <tr>\n",
       "      <th>TCGA-L5-A43E</th>\n",
       "      <td>TCGA-ESCA</td>\n",
       "      <td>No</td>\n",
       "      <td>Stage I</td>\n",
       "      <td>920.0</td>\n",
       "      <td>27143.0</td>\n",
       "      <td>no</td>\n",
       "      <td>No</td>\n",
       "      <td>white</td>\n",
       "      <td>male</td>\n",
       "      <td>Alive</td>\n",
       "      <td>NaN</td>\n",
       "      <td>no</td>\n",
       "      <td>no</td>\n",
       "      <td>920</td>\n",
       "      <td>0</td>\n",
       "    </tr>\n",
       "  </tbody>\n",
       "</table>\n",
       "</div>"
      ],
      "text/plain": [
       "             project_id synchronous_malignancy tumor_stage  \\\n",
       "submitter_id                                                 \n",
       "TCGA-2H-A9GL  TCGA-ESCA                     No   Stage III   \n",
       "TCGA-L5-A4OM  TCGA-ESCA                     No    Stage IA   \n",
       "TCGA-S8-A6BW  TCGA-ESCA                     No    Stage IB   \n",
       "TCGA-LN-A4A9  TCGA-ESCA                     No   Stage IIA   \n",
       "TCGA-L5-A43E  TCGA-ESCA                     No     Stage I   \n",
       "\n",
       "              days_to_last_follow_up  age_at_diagnosis prior_malignancy  \\\n",
       "submitter_id                                                              \n",
       "TCGA-2H-A9GL                     NaN           27115.0               no   \n",
       "TCGA-L5-A4OM                     NaN           19845.0               no   \n",
       "TCGA-S8-A6BW                   620.0           18944.0               no   \n",
       "TCGA-LN-A4A9                     NaN           21217.0               no   \n",
       "TCGA-L5-A43E                   920.0           27143.0               no   \n",
       "\n",
       "             prior_treatment   race  gender vital_status  days_to_death  \\\n",
       "submitter_id                                                              \n",
       "TCGA-2H-A9GL              No    NaN    male         Dead          180.0   \n",
       "TCGA-L5-A4OM              No  white  female         Dead         1458.0   \n",
       "TCGA-S8-A6BW              No  white    male        Alive            NaN   \n",
       "TCGA-LN-A4A9              No  asian    male         Dead          351.0   \n",
       "TCGA-L5-A43E              No  white    male        Alive            NaN   \n",
       "\n",
       "             treatments_pharmaceutical_treatment_or_therapy  \\\n",
       "submitter_id                                                  \n",
       "TCGA-2H-A9GL                                             no   \n",
       "TCGA-L5-A4OM                                             no   \n",
       "TCGA-S8-A6BW                                             no   \n",
       "TCGA-LN-A4A9                                             no   \n",
       "TCGA-L5-A43E                                             no   \n",
       "\n",
       "             treatments_radiation_treatment_or_therapy  time  event  \n",
       "submitter_id                                                         \n",
       "TCGA-2H-A9GL                                        no   180      1  \n",
       "TCGA-L5-A4OM                                        no  1458      1  \n",
       "TCGA-S8-A6BW                                        no   620      0  \n",
       "TCGA-LN-A4A9                                        no   351      1  \n",
       "TCGA-L5-A43E                                        no   920      0  "
      ]
     },
     "execution_count": 53,
     "metadata": {},
     "output_type": "execute_result"
    }
   ],
   "source": [
    "clinical.head()"
   ]
  },
  {
   "cell_type": "markdown",
   "metadata": {},
   "source": [
    "# Train-val-test split\n",
    "\n",
    "Split by patient and stratify by `project_id`."
   ]
  },
  {
   "cell_type": "code",
   "execution_count": 54,
   "metadata": {},
   "outputs": [
    {
     "data": {
      "text/plain": [
       "['TCGA-2H-A9GL', 'TCGA-L5-A4OM', 'TCGA-S8-A6BW']"
      ]
     },
     "execution_count": 54,
     "metadata": {},
     "output_type": "execute_result"
    }
   ],
   "source": [
    "cases = list(clinical.index.unique())\n",
    "cases[:3]"
   ]
  },
  {
   "cell_type": "code",
   "execution_count": 55,
   "metadata": {},
   "outputs": [],
   "source": [
    "X = clinical\n",
    "y = clinical[['time']]\n",
    "\n",
    "X_train, X_val, _, _ = train_test_split(\n",
    "    X, y, test_size=0.1, random_state=42, stratify=clinical[['project_id']])\n",
    "\n",
    "X = X_train\n",
    "y = X_train[['time']]\n",
    "\n",
    "X_train, X_test, _, _ = train_test_split(\n",
    "    X, y, test_size=0.1095, random_state=42, stratify=X_train[['project_id']])"
   ]
  },
  {
   "cell_type": "code",
   "execution_count": 56,
   "metadata": {},
   "outputs": [],
   "source": [
    "def get_split_group(id_code):\n",
    "    if id_code in list(X_train.index):\n",
    "        return 'train'\n",
    "    elif id_code in X_val.index:\n",
    "        return 'val'\n",
    "    elif id_code in X_test.index:\n",
    "        return 'test'\n",
    "    else:\n",
    "        print('Found NaN!')"
   ]
  },
  {
   "cell_type": "code",
   "execution_count": 57,
   "metadata": {},
   "outputs": [],
   "source": [
    "clinical['group'] = 'Missing'\n",
    "clinical['group'] = [get_split_group(x) for x in list(clinical.index)]"
   ]
  },
  {
   "cell_type": "code",
   "execution_count": 58,
   "metadata": {},
   "outputs": [
    {
     "data": {
      "text/html": [
       "<div>\n",
       "<style scoped>\n",
       "    .dataframe tbody tr th:only-of-type {\n",
       "        vertical-align: middle;\n",
       "    }\n",
       "\n",
       "    .dataframe tbody tr th {\n",
       "        vertical-align: top;\n",
       "    }\n",
       "\n",
       "    .dataframe thead th {\n",
       "        text-align: right;\n",
       "    }\n",
       "</style>\n",
       "<table border=\"1\" class=\"dataframe\">\n",
       "  <thead>\n",
       "    <tr style=\"text-align: right;\">\n",
       "      <th></th>\n",
       "      <th>project_id</th>\n",
       "      <th>synchronous_malignancy</th>\n",
       "      <th>tumor_stage</th>\n",
       "      <th>days_to_last_follow_up</th>\n",
       "      <th>age_at_diagnosis</th>\n",
       "      <th>prior_malignancy</th>\n",
       "      <th>prior_treatment</th>\n",
       "      <th>race</th>\n",
       "      <th>gender</th>\n",
       "      <th>vital_status</th>\n",
       "      <th>days_to_death</th>\n",
       "      <th>treatments_pharmaceutical_treatment_or_therapy</th>\n",
       "      <th>treatments_radiation_treatment_or_therapy</th>\n",
       "      <th>time</th>\n",
       "      <th>event</th>\n",
       "      <th>group</th>\n",
       "    </tr>\n",
       "    <tr>\n",
       "      <th>submitter_id</th>\n",
       "      <th></th>\n",
       "      <th></th>\n",
       "      <th></th>\n",
       "      <th></th>\n",
       "      <th></th>\n",
       "      <th></th>\n",
       "      <th></th>\n",
       "      <th></th>\n",
       "      <th></th>\n",
       "      <th></th>\n",
       "      <th></th>\n",
       "      <th></th>\n",
       "      <th></th>\n",
       "      <th></th>\n",
       "      <th></th>\n",
       "      <th></th>\n",
       "    </tr>\n",
       "  </thead>\n",
       "  <tbody>\n",
       "    <tr>\n",
       "      <th>TCGA-2H-A9GL</th>\n",
       "      <td>TCGA-ESCA</td>\n",
       "      <td>No</td>\n",
       "      <td>Stage III</td>\n",
       "      <td>NaN</td>\n",
       "      <td>27115.0</td>\n",
       "      <td>no</td>\n",
       "      <td>No</td>\n",
       "      <td>NaN</td>\n",
       "      <td>male</td>\n",
       "      <td>Dead</td>\n",
       "      <td>180.0</td>\n",
       "      <td>no</td>\n",
       "      <td>no</td>\n",
       "      <td>180</td>\n",
       "      <td>1</td>\n",
       "      <td>train</td>\n",
       "    </tr>\n",
       "    <tr>\n",
       "      <th>TCGA-L5-A4OM</th>\n",
       "      <td>TCGA-ESCA</td>\n",
       "      <td>No</td>\n",
       "      <td>Stage IA</td>\n",
       "      <td>NaN</td>\n",
       "      <td>19845.0</td>\n",
       "      <td>no</td>\n",
       "      <td>No</td>\n",
       "      <td>white</td>\n",
       "      <td>female</td>\n",
       "      <td>Dead</td>\n",
       "      <td>1458.0</td>\n",
       "      <td>no</td>\n",
       "      <td>no</td>\n",
       "      <td>1458</td>\n",
       "      <td>1</td>\n",
       "      <td>train</td>\n",
       "    </tr>\n",
       "    <tr>\n",
       "      <th>TCGA-S8-A6BW</th>\n",
       "      <td>TCGA-ESCA</td>\n",
       "      <td>No</td>\n",
       "      <td>Stage IB</td>\n",
       "      <td>620.0</td>\n",
       "      <td>18944.0</td>\n",
       "      <td>no</td>\n",
       "      <td>No</td>\n",
       "      <td>white</td>\n",
       "      <td>male</td>\n",
       "      <td>Alive</td>\n",
       "      <td>NaN</td>\n",
       "      <td>no</td>\n",
       "      <td>no</td>\n",
       "      <td>620</td>\n",
       "      <td>0</td>\n",
       "      <td>train</td>\n",
       "    </tr>\n",
       "    <tr>\n",
       "      <th>TCGA-LN-A4A9</th>\n",
       "      <td>TCGA-ESCA</td>\n",
       "      <td>No</td>\n",
       "      <td>Stage IIA</td>\n",
       "      <td>NaN</td>\n",
       "      <td>21217.0</td>\n",
       "      <td>no</td>\n",
       "      <td>No</td>\n",
       "      <td>asian</td>\n",
       "      <td>male</td>\n",
       "      <td>Dead</td>\n",
       "      <td>351.0</td>\n",
       "      <td>no</td>\n",
       "      <td>no</td>\n",
       "      <td>351</td>\n",
       "      <td>1</td>\n",
       "      <td>train</td>\n",
       "    </tr>\n",
       "    <tr>\n",
       "      <th>TCGA-L5-A43E</th>\n",
       "      <td>TCGA-ESCA</td>\n",
       "      <td>No</td>\n",
       "      <td>Stage I</td>\n",
       "      <td>920.0</td>\n",
       "      <td>27143.0</td>\n",
       "      <td>no</td>\n",
       "      <td>No</td>\n",
       "      <td>white</td>\n",
       "      <td>male</td>\n",
       "      <td>Alive</td>\n",
       "      <td>NaN</td>\n",
       "      <td>no</td>\n",
       "      <td>no</td>\n",
       "      <td>920</td>\n",
       "      <td>0</td>\n",
       "      <td>train</td>\n",
       "    </tr>\n",
       "  </tbody>\n",
       "</table>\n",
       "</div>"
      ],
      "text/plain": [
       "             project_id synchronous_malignancy tumor_stage  \\\n",
       "submitter_id                                                 \n",
       "TCGA-2H-A9GL  TCGA-ESCA                     No   Stage III   \n",
       "TCGA-L5-A4OM  TCGA-ESCA                     No    Stage IA   \n",
       "TCGA-S8-A6BW  TCGA-ESCA                     No    Stage IB   \n",
       "TCGA-LN-A4A9  TCGA-ESCA                     No   Stage IIA   \n",
       "TCGA-L5-A43E  TCGA-ESCA                     No     Stage I   \n",
       "\n",
       "              days_to_last_follow_up  age_at_diagnosis prior_malignancy  \\\n",
       "submitter_id                                                              \n",
       "TCGA-2H-A9GL                     NaN           27115.0               no   \n",
       "TCGA-L5-A4OM                     NaN           19845.0               no   \n",
       "TCGA-S8-A6BW                   620.0           18944.0               no   \n",
       "TCGA-LN-A4A9                     NaN           21217.0               no   \n",
       "TCGA-L5-A43E                   920.0           27143.0               no   \n",
       "\n",
       "             prior_treatment   race  gender vital_status  days_to_death  \\\n",
       "submitter_id                                                              \n",
       "TCGA-2H-A9GL              No    NaN    male         Dead          180.0   \n",
       "TCGA-L5-A4OM              No  white  female         Dead         1458.0   \n",
       "TCGA-S8-A6BW              No  white    male        Alive            NaN   \n",
       "TCGA-LN-A4A9              No  asian    male         Dead          351.0   \n",
       "TCGA-L5-A43E              No  white    male        Alive            NaN   \n",
       "\n",
       "             treatments_pharmaceutical_treatment_or_therapy  \\\n",
       "submitter_id                                                  \n",
       "TCGA-2H-A9GL                                             no   \n",
       "TCGA-L5-A4OM                                             no   \n",
       "TCGA-S8-A6BW                                             no   \n",
       "TCGA-LN-A4A9                                             no   \n",
       "TCGA-L5-A43E                                             no   \n",
       "\n",
       "             treatments_radiation_treatment_or_therapy  time  event  group  \n",
       "submitter_id                                                                \n",
       "TCGA-2H-A9GL                                        no   180      1  train  \n",
       "TCGA-L5-A4OM                                        no  1458      1  train  \n",
       "TCGA-S8-A6BW                                        no   620      0  train  \n",
       "TCGA-LN-A4A9                                        no   351      1  train  \n",
       "TCGA-L5-A43E                                        no   920      0  train  "
      ]
     },
     "execution_count": 58,
     "metadata": {},
     "output_type": "execute_result"
    }
   ],
   "source": [
    "clinical.head()"
   ]
  },
  {
   "cell_type": "code",
   "execution_count": 59,
   "metadata": {},
   "outputs": [
    {
     "data": {
      "text/html": [
       "<div>\n",
       "<style scoped>\n",
       "    .dataframe tbody tr th:only-of-type {\n",
       "        vertical-align: middle;\n",
       "    }\n",
       "\n",
       "    .dataframe tbody tr th {\n",
       "        vertical-align: top;\n",
       "    }\n",
       "\n",
       "    .dataframe thead th {\n",
       "        text-align: right;\n",
       "    }\n",
       "</style>\n",
       "<table border=\"1\" class=\"dataframe\">\n",
       "  <thead>\n",
       "    <tr style=\"text-align: right;\">\n",
       "      <th></th>\n",
       "      <th>project_id</th>\n",
       "      <th>synchronous_malignancy</th>\n",
       "      <th>tumor_stage</th>\n",
       "      <th>days_to_last_follow_up</th>\n",
       "      <th>age_at_diagnosis</th>\n",
       "      <th>prior_malignancy</th>\n",
       "      <th>prior_treatment</th>\n",
       "      <th>race</th>\n",
       "      <th>gender</th>\n",
       "      <th>vital_status</th>\n",
       "      <th>days_to_death</th>\n",
       "      <th>treatments_pharmaceutical_treatment_or_therapy</th>\n",
       "      <th>treatments_radiation_treatment_or_therapy</th>\n",
       "      <th>time</th>\n",
       "      <th>event</th>\n",
       "      <th>group</th>\n",
       "    </tr>\n",
       "    <tr>\n",
       "      <th>submitter_id</th>\n",
       "      <th></th>\n",
       "      <th></th>\n",
       "      <th></th>\n",
       "      <th></th>\n",
       "      <th></th>\n",
       "      <th></th>\n",
       "      <th></th>\n",
       "      <th></th>\n",
       "      <th></th>\n",
       "      <th></th>\n",
       "      <th></th>\n",
       "      <th></th>\n",
       "      <th></th>\n",
       "      <th></th>\n",
       "      <th></th>\n",
       "      <th></th>\n",
       "    </tr>\n",
       "  </thead>\n",
       "  <tbody>\n",
       "    <tr>\n",
       "      <th>TCGA-2H-A9GL</th>\n",
       "      <td>TCGA-ESCA</td>\n",
       "      <td>No</td>\n",
       "      <td>Stage III</td>\n",
       "      <td>NaN</td>\n",
       "      <td>27115.0</td>\n",
       "      <td>no</td>\n",
       "      <td>No</td>\n",
       "      <td>NaN</td>\n",
       "      <td>male</td>\n",
       "      <td>Dead</td>\n",
       "      <td>180.0</td>\n",
       "      <td>no</td>\n",
       "      <td>no</td>\n",
       "      <td>0.493151</td>\n",
       "      <td>1</td>\n",
       "      <td>train</td>\n",
       "    </tr>\n",
       "    <tr>\n",
       "      <th>TCGA-L5-A4OM</th>\n",
       "      <td>TCGA-ESCA</td>\n",
       "      <td>No</td>\n",
       "      <td>Stage IA</td>\n",
       "      <td>NaN</td>\n",
       "      <td>19845.0</td>\n",
       "      <td>no</td>\n",
       "      <td>No</td>\n",
       "      <td>white</td>\n",
       "      <td>female</td>\n",
       "      <td>Dead</td>\n",
       "      <td>1458.0</td>\n",
       "      <td>no</td>\n",
       "      <td>no</td>\n",
       "      <td>3.994521</td>\n",
       "      <td>1</td>\n",
       "      <td>train</td>\n",
       "    </tr>\n",
       "    <tr>\n",
       "      <th>TCGA-S8-A6BW</th>\n",
       "      <td>TCGA-ESCA</td>\n",
       "      <td>No</td>\n",
       "      <td>Stage IB</td>\n",
       "      <td>620.0</td>\n",
       "      <td>18944.0</td>\n",
       "      <td>no</td>\n",
       "      <td>No</td>\n",
       "      <td>white</td>\n",
       "      <td>male</td>\n",
       "      <td>Alive</td>\n",
       "      <td>NaN</td>\n",
       "      <td>no</td>\n",
       "      <td>no</td>\n",
       "      <td>1.698630</td>\n",
       "      <td>0</td>\n",
       "      <td>train</td>\n",
       "    </tr>\n",
       "    <tr>\n",
       "      <th>TCGA-LN-A4A9</th>\n",
       "      <td>TCGA-ESCA</td>\n",
       "      <td>No</td>\n",
       "      <td>Stage IIA</td>\n",
       "      <td>NaN</td>\n",
       "      <td>21217.0</td>\n",
       "      <td>no</td>\n",
       "      <td>No</td>\n",
       "      <td>asian</td>\n",
       "      <td>male</td>\n",
       "      <td>Dead</td>\n",
       "      <td>351.0</td>\n",
       "      <td>no</td>\n",
       "      <td>no</td>\n",
       "      <td>0.961644</td>\n",
       "      <td>1</td>\n",
       "      <td>train</td>\n",
       "    </tr>\n",
       "    <tr>\n",
       "      <th>TCGA-L5-A43E</th>\n",
       "      <td>TCGA-ESCA</td>\n",
       "      <td>No</td>\n",
       "      <td>Stage I</td>\n",
       "      <td>920.0</td>\n",
       "      <td>27143.0</td>\n",
       "      <td>no</td>\n",
       "      <td>No</td>\n",
       "      <td>white</td>\n",
       "      <td>male</td>\n",
       "      <td>Alive</td>\n",
       "      <td>NaN</td>\n",
       "      <td>no</td>\n",
       "      <td>no</td>\n",
       "      <td>2.520548</td>\n",
       "      <td>0</td>\n",
       "      <td>train</td>\n",
       "    </tr>\n",
       "  </tbody>\n",
       "</table>\n",
       "</div>"
      ],
      "text/plain": [
       "             project_id synchronous_malignancy tumor_stage  \\\n",
       "submitter_id                                                 \n",
       "TCGA-2H-A9GL  TCGA-ESCA                     No   Stage III   \n",
       "TCGA-L5-A4OM  TCGA-ESCA                     No    Stage IA   \n",
       "TCGA-S8-A6BW  TCGA-ESCA                     No    Stage IB   \n",
       "TCGA-LN-A4A9  TCGA-ESCA                     No   Stage IIA   \n",
       "TCGA-L5-A43E  TCGA-ESCA                     No     Stage I   \n",
       "\n",
       "              days_to_last_follow_up  age_at_diagnosis prior_malignancy  \\\n",
       "submitter_id                                                              \n",
       "TCGA-2H-A9GL                     NaN           27115.0               no   \n",
       "TCGA-L5-A4OM                     NaN           19845.0               no   \n",
       "TCGA-S8-A6BW                   620.0           18944.0               no   \n",
       "TCGA-LN-A4A9                     NaN           21217.0               no   \n",
       "TCGA-L5-A43E                   920.0           27143.0               no   \n",
       "\n",
       "             prior_treatment   race  gender vital_status  days_to_death  \\\n",
       "submitter_id                                                              \n",
       "TCGA-2H-A9GL              No    NaN    male         Dead          180.0   \n",
       "TCGA-L5-A4OM              No  white  female         Dead         1458.0   \n",
       "TCGA-S8-A6BW              No  white    male        Alive            NaN   \n",
       "TCGA-LN-A4A9              No  asian    male         Dead          351.0   \n",
       "TCGA-L5-A43E              No  white    male        Alive            NaN   \n",
       "\n",
       "             treatments_pharmaceutical_treatment_or_therapy  \\\n",
       "submitter_id                                                  \n",
       "TCGA-2H-A9GL                                             no   \n",
       "TCGA-L5-A4OM                                             no   \n",
       "TCGA-S8-A6BW                                             no   \n",
       "TCGA-LN-A4A9                                             no   \n",
       "TCGA-L5-A43E                                             no   \n",
       "\n",
       "             treatments_radiation_treatment_or_therapy      time  event  group  \n",
       "submitter_id                                                                    \n",
       "TCGA-2H-A9GL                                        no  0.493151      1  train  \n",
       "TCGA-L5-A4OM                                        no  3.994521      1  train  \n",
       "TCGA-S8-A6BW                                        no  1.698630      0  train  \n",
       "TCGA-LN-A4A9                                        no  0.961644      1  train  \n",
       "TCGA-L5-A43E                                        no  2.520548      0  train  "
      ]
     },
     "execution_count": 59,
     "metadata": {},
     "output_type": "execute_result"
    }
   ],
   "source": [
    "# Convert duration to years\n",
    "clinical['time'] = clinical['time'] / 365\n",
    "clinical.head()"
   ]
  },
  {
   "cell_type": "code",
   "execution_count": 60,
   "metadata": {},
   "outputs": [],
   "source": [
    "def get_data_group(df, value='train'):\n",
    "    group = df.loc[df['group'] == value]\n",
    "    return group.drop(columns='group')\n",
    "\n",
    "train = get_data_group(clinical, 'train')\n",
    "val = get_data_group(clinical, 'val')\n",
    "test = get_data_group(clinical, 'test')"
   ]
  },
  {
   "cell_type": "code",
   "execution_count": 61,
   "metadata": {},
   "outputs": [
    {
     "name": "stdout",
     "output_type": "stream",
     "text": [
      "# patients in split groups:\n",
      "     train:      8880\n",
      "     validation: 1109\n",
      "     test:       1092\n"
     ]
    }
   ],
   "source": [
    "print('# patients in split groups:')\n",
    "print('     train:     ', len(train))\n",
    "print('     validation:', len(val))\n",
    "print('     test:      ', len(test))"
   ]
  },
  {
   "cell_type": "markdown",
   "metadata": {},
   "source": [
    "## Survival curves\n",
    "\n",
    "Plot Kaplan-Meier survival function."
   ]
  },
  {
   "cell_type": "code",
   "execution_count": 62,
   "metadata": {},
   "outputs": [
    {
     "data": {
      "text/plain": [
       "<matplotlib.axes._subplots.AxesSubplot at 0x7f42a3e594e0>"
      ]
     },
     "execution_count": 62,
     "metadata": {},
     "output_type": "execute_result"
    },
    {
     "data": {
      "image/png": "[encoded data removed]",
      "text/plain": [
       "<Figure size 432x288 with 1 Axes>"
      ]
     },
     "metadata": {
      "needs_background": "light"
     },
     "output_type": "display_data"
    }
   ],
   "source": [
    "kmf = KaplanMeierFitter()\n",
    "kmf.fit(train['time'], event_observed=train['event'])\n",
    "ax = kmf.plot(title='Training data')\n",
    "ax.set_xlabel('Time (years)')\n",
    "ax"
   ]
  },
  {
   "cell_type": "code",
   "execution_count": 63,
   "metadata": {},
   "outputs": [
    {
     "data": {
      "text/plain": [
       "<matplotlib.axes._subplots.AxesSubplot at 0x7f42a3d2b080>"
      ]
     },
     "execution_count": 63,
     "metadata": {},
     "output_type": "execute_result"
    },
    {
     "data": {
      "image/png": "[encoded data removed]",
      "text/plain": [
       "<Figure size 432x288 with 1 Axes>"
      ]
     },
     "metadata": {
      "needs_background": "light"
     },
     "output_type": "display_data"
    }
   ],
   "source": [
    "kmf = KaplanMeierFitter()\n",
    "kmf.fit(val['time'], event_observed=val['event'])\n",
    "ax = kmf.plot(title='Validation data')\n",
    "ax.set_xlabel('Time (years)')\n",
    "ax"
   ]
  },
  {
   "cell_type": "code",
   "execution_count": 64,
   "metadata": {},
   "outputs": [
    {
     "data": {
      "text/plain": [
       "<matplotlib.axes._subplots.AxesSubplot at 0x7f42a3cfa668>"
      ]
     },
     "execution_count": 64,
     "metadata": {},
     "output_type": "execute_result"
    },
    {
     "data": {
      "image/png": "[encoded data removed]",
      "text/plain": [
       "<Figure size 432x288 with 1 Axes>"
      ]
     },
     "metadata": {
      "needs_background": "light"
     },
     "output_type": "display_data"
    }
   ],
   "source": [
    "kmf = KaplanMeierFitter()\n",
    "kmf.fit(test['time'], event_observed=test['event'])\n",
    "ax = kmf.plot(title='Test data')\n",
    "ax.set_xlabel('Time (years)')\n",
    "ax"
   ]
  },
  {
   "cell_type": "markdown",
   "metadata": {},
   "source": [
    "# Save clinical data to file\n",
    "\n",
    "To use in the visualization of the features learned by the model."
   ]
  },
  {
   "cell_type": "code",
   "execution_count": 65,
   "metadata": {},
   "outputs": [
    {
     "data": {
      "text/html": [
       "<div>\n",
       "<style scoped>\n",
       "    .dataframe tbody tr th:only-of-type {\n",
       "        vertical-align: middle;\n",
       "    }\n",
       "\n",
       "    .dataframe tbody tr th {\n",
       "        vertical-align: top;\n",
       "    }\n",
       "\n",
       "    .dataframe thead th {\n",
       "        text-align: right;\n",
       "    }\n",
       "</style>\n",
       "<table border=\"1\" class=\"dataframe\">\n",
       "  <thead>\n",
       "    <tr style=\"text-align: right;\">\n",
       "      <th></th>\n",
       "      <th>project_id</th>\n",
       "      <th>synchronous_malignancy</th>\n",
       "      <th>tumor_stage</th>\n",
       "      <th>days_to_last_follow_up</th>\n",
       "      <th>age_at_diagnosis</th>\n",
       "      <th>prior_malignancy</th>\n",
       "      <th>prior_treatment</th>\n",
       "      <th>race</th>\n",
       "      <th>gender</th>\n",
       "      <th>vital_status</th>\n",
       "      <th>days_to_death</th>\n",
       "      <th>treatments_pharmaceutical_treatment_or_therapy</th>\n",
       "      <th>treatments_radiation_treatment_or_therapy</th>\n",
       "      <th>time</th>\n",
       "      <th>event</th>\n",
       "      <th>group</th>\n",
       "    </tr>\n",
       "    <tr>\n",
       "      <th>submitter_id</th>\n",
       "      <th></th>\n",
       "      <th></th>\n",
       "      <th></th>\n",
       "      <th></th>\n",
       "      <th></th>\n",
       "      <th></th>\n",
       "      <th></th>\n",
       "      <th></th>\n",
       "      <th></th>\n",
       "      <th></th>\n",
       "      <th></th>\n",
       "      <th></th>\n",
       "      <th></th>\n",
       "      <th></th>\n",
       "      <th></th>\n",
       "      <th></th>\n",
       "    </tr>\n",
       "  </thead>\n",
       "  <tbody>\n",
       "    <tr>\n",
       "      <th>TCGA-2H-A9GL</th>\n",
       "      <td>TCGA-ESCA</td>\n",
       "      <td>No</td>\n",
       "      <td>Stage III</td>\n",
       "      <td>NaN</td>\n",
       "      <td>27115.0</td>\n",
       "      <td>no</td>\n",
       "      <td>No</td>\n",
       "      <td>NaN</td>\n",
       "      <td>male</td>\n",
       "      <td>Dead</td>\n",
       "      <td>180.0</td>\n",
       "      <td>no</td>\n",
       "      <td>no</td>\n",
       "      <td>0.493151</td>\n",
       "      <td>1</td>\n",
       "      <td>train</td>\n",
       "    </tr>\n",
       "    <tr>\n",
       "      <th>TCGA-L5-A4OM</th>\n",
       "      <td>TCGA-ESCA</td>\n",
       "      <td>No</td>\n",
       "      <td>Stage IA</td>\n",
       "      <td>NaN</td>\n",
       "      <td>19845.0</td>\n",
       "      <td>no</td>\n",
       "      <td>No</td>\n",
       "      <td>white</td>\n",
       "      <td>female</td>\n",
       "      <td>Dead</td>\n",
       "      <td>1458.0</td>\n",
       "      <td>no</td>\n",
       "      <td>no</td>\n",
       "      <td>3.994521</td>\n",
       "      <td>1</td>\n",
       "      <td>train</td>\n",
       "    </tr>\n",
       "    <tr>\n",
       "      <th>TCGA-S8-A6BW</th>\n",
       "      <td>TCGA-ESCA</td>\n",
       "      <td>No</td>\n",
       "      <td>Stage IB</td>\n",
       "      <td>620.0</td>\n",
       "      <td>18944.0</td>\n",
       "      <td>no</td>\n",
       "      <td>No</td>\n",
       "      <td>white</td>\n",
       "      <td>male</td>\n",
       "      <td>Alive</td>\n",
       "      <td>NaN</td>\n",
       "      <td>no</td>\n",
       "      <td>no</td>\n",
       "      <td>1.698630</td>\n",
       "      <td>0</td>\n",
       "      <td>train</td>\n",
       "    </tr>\n",
       "    <tr>\n",
       "      <th>TCGA-LN-A4A9</th>\n",
       "      <td>TCGA-ESCA</td>\n",
       "      <td>No</td>\n",
       "      <td>Stage IIA</td>\n",
       "      <td>NaN</td>\n",
       "      <td>21217.0</td>\n",
       "      <td>no</td>\n",
       "      <td>No</td>\n",
       "      <td>asian</td>\n",
       "      <td>male</td>\n",
       "      <td>Dead</td>\n",
       "      <td>351.0</td>\n",
       "      <td>no</td>\n",
       "      <td>no</td>\n",
       "      <td>0.961644</td>\n",
       "      <td>1</td>\n",
       "      <td>train</td>\n",
       "    </tr>\n",
       "    <tr>\n",
       "      <th>TCGA-L5-A43E</th>\n",
       "      <td>TCGA-ESCA</td>\n",
       "      <td>No</td>\n",
       "      <td>Stage I</td>\n",
       "      <td>920.0</td>\n",
       "      <td>27143.0</td>\n",
       "      <td>no</td>\n",
       "      <td>No</td>\n",
       "      <td>white</td>\n",
       "      <td>male</td>\n",
       "      <td>Alive</td>\n",
       "      <td>NaN</td>\n",
       "      <td>no</td>\n",
       "      <td>no</td>\n",
       "      <td>2.520548</td>\n",
       "      <td>0</td>\n",
       "      <td>train</td>\n",
       "    </tr>\n",
       "  </tbody>\n",
       "</table>\n",
       "</div>"
      ],
      "text/plain": [
       "             project_id synchronous_malignancy tumor_stage  \\\n",
       "submitter_id                                                 \n",
       "TCGA-2H-A9GL  TCGA-ESCA                     No   Stage III   \n",
       "TCGA-L5-A4OM  TCGA-ESCA                     No    Stage IA   \n",
       "TCGA-S8-A6BW  TCGA-ESCA                     No    Stage IB   \n",
       "TCGA-LN-A4A9  TCGA-ESCA                     No   Stage IIA   \n",
       "TCGA-L5-A43E  TCGA-ESCA                     No     Stage I   \n",
       "\n",
       "              days_to_last_follow_up  age_at_diagnosis prior_malignancy  \\\n",
       "submitter_id                                                              \n",
       "TCGA-2H-A9GL                     NaN           27115.0               no   \n",
       "TCGA-L5-A4OM                     NaN           19845.0               no   \n",
       "TCGA-S8-A6BW                   620.0           18944.0               no   \n",
       "TCGA-LN-A4A9                     NaN           21217.0               no   \n",
       "TCGA-L5-A43E                   920.0           27143.0               no   \n",
       "\n",
       "             prior_treatment   race  gender vital_status  days_to_death  \\\n",
       "submitter_id                                                              \n",
       "TCGA-2H-A9GL              No    NaN    male         Dead          180.0   \n",
       "TCGA-L5-A4OM              No  white  female         Dead         1458.0   \n",
       "TCGA-S8-A6BW              No  white    male        Alive            NaN   \n",
       "TCGA-LN-A4A9              No  asian    male         Dead          351.0   \n",
       "TCGA-L5-A43E              No  white    male        Alive            NaN   \n",
       "\n",
       "             treatments_pharmaceutical_treatment_or_therapy  \\\n",
       "submitter_id                                                  \n",
       "TCGA-2H-A9GL                                             no   \n",
       "TCGA-L5-A4OM                                             no   \n",
       "TCGA-S8-A6BW                                             no   \n",
       "TCGA-LN-A4A9                                             no   \n",
       "TCGA-L5-A43E                                             no   \n",
       "\n",
       "             treatments_radiation_treatment_or_therapy      time  event  group  \n",
       "submitter_id                                                                    \n",
       "TCGA-2H-A9GL                                        no  0.493151      1  train  \n",
       "TCGA-L5-A4OM                                        no  3.994521      1  train  \n",
       "TCGA-S8-A6BW                                        no  1.698630      0  train  \n",
       "TCGA-LN-A4A9                                        no  0.961644      1  train  \n",
       "TCGA-L5-A43E                                        no  2.520548      0  train  "
      ]
     },
     "execution_count": 65,
     "metadata": {},
     "output_type": "execute_result"
    }
   ],
   "source": [
    "clinical.head()"
   ]
  },
  {
   "cell_type": "raw",
   "metadata": {},
   "source": [
    "clinical.to_csv('clinical_data.tsv', sep='\\t')"
   ]
  },
  {
   "cell_type": "markdown",
   "metadata": {},
   "source": [
    "# Input missing values\n",
    "\n",
    "* Input missing continuous data with median value.\n",
    "* Leave categorical features unchanged, to treat missing data as its own category."
   ]
  },
  {
   "cell_type": "code",
   "execution_count": 66,
   "metadata": {},
   "outputs": [
    {
     "name": "stdout",
     "output_type": "stream",
     "text": [
      "~~ MISSING DATA ~~\n",
      "\n",
      "synchronous_malignancy: 1907 (17.21%)\n",
      "tumor_stage: 4177 (37.7%)\n",
      "age_at_diagnosis: 92 (0.83%)\n",
      "prior_malignancy: 1133 (10.22%)\n",
      "prior_treatment: 4 (0.04%)\n",
      "race: 892 (8.05%)\n",
      "treatments_pharmaceutical_treatment_or_therapy: 1270 (11.46%)\n",
      "treatments_radiation_treatment_or_therapy: 1211 (10.93%)\n"
     ]
    }
   ],
   "source": [
    "print('~~ MISSING DATA ~~')\n",
    "print()\n",
    "skip = ['project_id', 'days_to_death', 'days_to_last_follow_up']\n",
    "\n",
    "n = clinical.shape[0]\n",
    "\n",
    "for v in clinical.columns:\n",
    "    if v not in skip:\n",
    "        n_missing = sum(clinical[v].isnull())\n",
    "        if n_missing > 0:\n",
    "            print(f'{v}: {n_missing} ({round(n_missing / n * 100, 2)}%)')"
   ]
  },
  {
   "cell_type": "code",
   "execution_count": 67,
   "metadata": {},
   "outputs": [],
   "source": [
    "def input_missing_values(feature, df):\n",
    "    train_subset = df.loc[df['group'] == 'train', feature]\n",
    "    try:\n",
    "        input_value = train_subset.median()\n",
    "        print(f'Median \"{feature}\": {input_value}')\n",
    "    except TypeError:\n",
    "        input_value = train_subset.mode().iloc[0]\n",
    "        print(f'Mode \"{feature}\": {input_value}')\n",
    "\n",
    "    df[feature].fillna(input_value, inplace=True)\n",
    "    \n",
    "    return df"
   ]
  },
  {
   "cell_type": "code",
   "execution_count": 68,
   "metadata": {},
   "outputs": [
    {
     "name": "stdout",
     "output_type": "stream",
     "text": [
      "Median \"age_at_diagnosis\": 22201.0\n"
     ]
    }
   ],
   "source": [
    "clinical = input_missing_values(feature='age_at_diagnosis', df=clinical)"
   ]
  },
  {
   "cell_type": "code",
   "execution_count": 69,
   "metadata": {},
   "outputs": [
    {
     "name": "stdout",
     "output_type": "stream",
     "text": [
      "~~ MISSING DATA ~~\n",
      "\n",
      "synchronous_malignancy: 1907 (17.21%)\n",
      "tumor_stage: 4177 (37.7%)\n",
      "days_to_last_follow_up: 3602 (32.51%)\n",
      "prior_malignancy: 1133 (10.22%)\n",
      "prior_treatment: 4 (0.04%)\n",
      "race: 892 (8.05%)\n",
      "days_to_death: 7479 (67.49%)\n",
      "treatments_pharmaceutical_treatment_or_therapy: 1270 (11.46%)\n",
      "treatments_radiation_treatment_or_therapy: 1211 (10.93%)\n"
     ]
    }
   ],
   "source": [
    "print('~~ MISSING DATA ~~')\n",
    "print()\n",
    "n = clinical.shape[0]\n",
    "\n",
    "for v in clinical.columns:\n",
    "    n_missing = sum(clinical[v].isnull())\n",
    "    if n_missing > 0:\n",
    "        print(f'{v}: {n_missing} ({round(n_missing / n * 100, 2)}%)')"
   ]
  },
  {
   "cell_type": "markdown",
   "metadata": {},
   "source": [
    "# Scale continuous variables"
   ]
  },
  {
   "cell_type": "code",
   "execution_count": 70,
   "metadata": {},
   "outputs": [],
   "source": [
    "id_groups = {\n",
    "    'train': list(clinical.loc[clinical['group'] == 'train', ].index),\n",
    "    'val': list(clinical.loc[clinical['group'] == 'val', ].index),\n",
    "    'test': list(clinical.loc[clinical['group'] == 'test', ].index)}"
   ]
  },
  {
   "cell_type": "code",
   "execution_count": 71,
   "metadata": {},
   "outputs": [
    {
     "data": {
      "text/plain": [
       "Index(['project_id', 'synchronous_malignancy', 'tumor_stage',\n",
       "       'days_to_last_follow_up', 'age_at_diagnosis', 'prior_malignancy',\n",
       "       'prior_treatment', 'race', 'gender', 'vital_status', 'days_to_death',\n",
       "       'treatments_pharmaceutical_treatment_or_therapy',\n",
       "       'treatments_radiation_treatment_or_therapy', 'time', 'event', 'group'],\n",
       "      dtype='object')"
      ]
     },
     "execution_count": 71,
     "metadata": {},
     "output_type": "execute_result"
    }
   ],
   "source": [
    "clinical.columns"
   ]
  },
  {
   "cell_type": "code",
   "execution_count": 72,
   "metadata": {},
   "outputs": [
    {
     "data": {
      "text/plain": [
       "['project_id', 'days_to_death', 'days_to_last_follow_up']"
      ]
     },
     "execution_count": 72,
     "metadata": {},
     "output_type": "execute_result"
    }
   ],
   "source": [
    "skip"
   ]
  },
  {
   "cell_type": "code",
   "execution_count": 73,
   "metadata": {},
   "outputs": [],
   "source": [
    "continuous = ['age_at_diagnosis']"
   ]
  },
  {
   "cell_type": "code",
   "execution_count": 74,
   "metadata": {},
   "outputs": [],
   "source": [
    "def min_max_scale(data, features, groups):\n",
    "    train = data.loc[data.index.isin(groups['train']), features]\n",
    "\n",
    "    scaler = MinMaxScaler()\n",
    "    columns = train.columns\n",
    "    scaler = scaler.fit(train[columns])\n",
    "    \n",
    "    data.loc[data.index.isin(groups['train']), features] = scaler.transform(\n",
    "        train)\n",
    "    data.loc[data.index.isin(groups['val']), features] = scaler.transform(\n",
    "        data.loc[data.index.isin(groups['val']), features])\n",
    "    data.loc[data.index.isin(groups['test']), features] = scaler.transform(\n",
    "        data.loc[data.index.isin(groups['test']), features])\n",
    "    \n",
    "    return data"
   ]
  },
  {
   "cell_type": "code",
   "execution_count": 75,
   "metadata": {},
   "outputs": [],
   "source": [
    "clinical = min_max_scale(data=clinical, features=continuous, groups=id_groups)"
   ]
  },
  {
   "cell_type": "code",
   "execution_count": 76,
   "metadata": {},
   "outputs": [
    {
     "data": {
      "text/plain": [
       "count    11081.000000\n",
       "mean         0.615552\n",
       "std          0.181354\n",
       "min          0.000000\n",
       "25%          0.504915\n",
       "50%          0.630633\n",
       "75%          0.747490\n",
       "max          1.000000\n",
       "Name: age_at_diagnosis, dtype: float64"
      ]
     },
     "execution_count": 76,
     "metadata": {},
     "output_type": "execute_result"
    }
   ],
   "source": [
    "clinical.age_at_diagnosis.describe()"
   ]
  },
  {
   "cell_type": "code",
   "execution_count": 77,
   "metadata": {},
   "outputs": [
    {
     "data": {
      "text/html": [
       "<div>\n",
       "<style scoped>\n",
       "    .dataframe tbody tr th:only-of-type {\n",
       "        vertical-align: middle;\n",
       "    }\n",
       "\n",
       "    .dataframe tbody tr th {\n",
       "        vertical-align: top;\n",
       "    }\n",
       "\n",
       "    .dataframe thead th {\n",
       "        text-align: right;\n",
       "    }\n",
       "</style>\n",
       "<table border=\"1\" class=\"dataframe\">\n",
       "  <thead>\n",
       "    <tr style=\"text-align: right;\">\n",
       "      <th></th>\n",
       "      <th>project_id</th>\n",
       "      <th>synchronous_malignancy</th>\n",
       "      <th>tumor_stage</th>\n",
       "      <th>days_to_last_follow_up</th>\n",
       "      <th>age_at_diagnosis</th>\n",
       "      <th>prior_malignancy</th>\n",
       "      <th>prior_treatment</th>\n",
       "      <th>race</th>\n",
       "      <th>gender</th>\n",
       "      <th>vital_status</th>\n",
       "      <th>days_to_death</th>\n",
       "      <th>treatments_pharmaceutical_treatment_or_therapy</th>\n",
       "      <th>treatments_radiation_treatment_or_therapy</th>\n",
       "      <th>time</th>\n",
       "      <th>event</th>\n",
       "      <th>group</th>\n",
       "    </tr>\n",
       "    <tr>\n",
       "      <th>submitter_id</th>\n",
       "      <th></th>\n",
       "      <th></th>\n",
       "      <th></th>\n",
       "      <th></th>\n",
       "      <th></th>\n",
       "      <th></th>\n",
       "      <th></th>\n",
       "      <th></th>\n",
       "      <th></th>\n",
       "      <th></th>\n",
       "      <th></th>\n",
       "      <th></th>\n",
       "      <th></th>\n",
       "      <th></th>\n",
       "      <th></th>\n",
       "      <th></th>\n",
       "    </tr>\n",
       "  </thead>\n",
       "  <tbody>\n",
       "    <tr>\n",
       "      <th>TCGA-2H-A9GL</th>\n",
       "      <td>TCGA-ESCA</td>\n",
       "      <td>No</td>\n",
       "      <td>Stage III</td>\n",
       "      <td>NaN</td>\n",
       "      <td>0.800727</td>\n",
       "      <td>no</td>\n",
       "      <td>No</td>\n",
       "      <td>NaN</td>\n",
       "      <td>male</td>\n",
       "      <td>Dead</td>\n",
       "      <td>180.0</td>\n",
       "      <td>no</td>\n",
       "      <td>no</td>\n",
       "      <td>0.493151</td>\n",
       "      <td>1</td>\n",
       "      <td>train</td>\n",
       "    </tr>\n",
       "    <tr>\n",
       "      <th>TCGA-L5-A4OM</th>\n",
       "      <td>TCGA-ESCA</td>\n",
       "      <td>No</td>\n",
       "      <td>Stage IA</td>\n",
       "      <td>NaN</td>\n",
       "      <td>0.549083</td>\n",
       "      <td>no</td>\n",
       "      <td>No</td>\n",
       "      <td>white</td>\n",
       "      <td>female</td>\n",
       "      <td>Dead</td>\n",
       "      <td>1458.0</td>\n",
       "      <td>no</td>\n",
       "      <td>no</td>\n",
       "      <td>3.994521</td>\n",
       "      <td>1</td>\n",
       "      <td>train</td>\n",
       "    </tr>\n",
       "    <tr>\n",
       "      <th>TCGA-S8-A6BW</th>\n",
       "      <td>TCGA-ESCA</td>\n",
       "      <td>No</td>\n",
       "      <td>Stage IB</td>\n",
       "      <td>620.0</td>\n",
       "      <td>0.517895</td>\n",
       "      <td>no</td>\n",
       "      <td>No</td>\n",
       "      <td>white</td>\n",
       "      <td>male</td>\n",
       "      <td>Alive</td>\n",
       "      <td>NaN</td>\n",
       "      <td>no</td>\n",
       "      <td>no</td>\n",
       "      <td>1.698630</td>\n",
       "      <td>0</td>\n",
       "      <td>train</td>\n",
       "    </tr>\n",
       "    <tr>\n",
       "      <th>TCGA-LN-A4A9</th>\n",
       "      <td>TCGA-ESCA</td>\n",
       "      <td>No</td>\n",
       "      <td>Stage IIA</td>\n",
       "      <td>NaN</td>\n",
       "      <td>0.596573</td>\n",
       "      <td>no</td>\n",
       "      <td>No</td>\n",
       "      <td>asian</td>\n",
       "      <td>male</td>\n",
       "      <td>Dead</td>\n",
       "      <td>351.0</td>\n",
       "      <td>no</td>\n",
       "      <td>no</td>\n",
       "      <td>0.961644</td>\n",
       "      <td>1</td>\n",
       "      <td>train</td>\n",
       "    </tr>\n",
       "    <tr>\n",
       "      <th>TCGA-L5-A43E</th>\n",
       "      <td>TCGA-ESCA</td>\n",
       "      <td>No</td>\n",
       "      <td>Stage I</td>\n",
       "      <td>920.0</td>\n",
       "      <td>0.801696</td>\n",
       "      <td>no</td>\n",
       "      <td>No</td>\n",
       "      <td>white</td>\n",
       "      <td>male</td>\n",
       "      <td>Alive</td>\n",
       "      <td>NaN</td>\n",
       "      <td>no</td>\n",
       "      <td>no</td>\n",
       "      <td>2.520548</td>\n",
       "      <td>0</td>\n",
       "      <td>train</td>\n",
       "    </tr>\n",
       "  </tbody>\n",
       "</table>\n",
       "</div>"
      ],
      "text/plain": [
       "             project_id synchronous_malignancy tumor_stage  \\\n",
       "submitter_id                                                 \n",
       "TCGA-2H-A9GL  TCGA-ESCA                     No   Stage III   \n",
       "TCGA-L5-A4OM  TCGA-ESCA                     No    Stage IA   \n",
       "TCGA-S8-A6BW  TCGA-ESCA                     No    Stage IB   \n",
       "TCGA-LN-A4A9  TCGA-ESCA                     No   Stage IIA   \n",
       "TCGA-L5-A43E  TCGA-ESCA                     No     Stage I   \n",
       "\n",
       "              days_to_last_follow_up  age_at_diagnosis prior_malignancy  \\\n",
       "submitter_id                                                              \n",
       "TCGA-2H-A9GL                     NaN          0.800727               no   \n",
       "TCGA-L5-A4OM                     NaN          0.549083               no   \n",
       "TCGA-S8-A6BW                   620.0          0.517895               no   \n",
       "TCGA-LN-A4A9                     NaN          0.596573               no   \n",
       "TCGA-L5-A43E                   920.0          0.801696               no   \n",
       "\n",
       "             prior_treatment   race  gender vital_status  days_to_death  \\\n",
       "submitter_id                                                              \n",
       "TCGA-2H-A9GL              No    NaN    male         Dead          180.0   \n",
       "TCGA-L5-A4OM              No  white  female         Dead         1458.0   \n",
       "TCGA-S8-A6BW              No  white    male        Alive            NaN   \n",
       "TCGA-LN-A4A9              No  asian    male         Dead          351.0   \n",
       "TCGA-L5-A43E              No  white    male        Alive            NaN   \n",
       "\n",
       "             treatments_pharmaceutical_treatment_or_therapy  \\\n",
       "submitter_id                                                  \n",
       "TCGA-2H-A9GL                                             no   \n",
       "TCGA-L5-A4OM                                             no   \n",
       "TCGA-S8-A6BW                                             no   \n",
       "TCGA-LN-A4A9                                             no   \n",
       "TCGA-L5-A43E                                             no   \n",
       "\n",
       "             treatments_radiation_treatment_or_therapy      time  event  group  \n",
       "submitter_id                                                                    \n",
       "TCGA-2H-A9GL                                        no  0.493151      1  train  \n",
       "TCGA-L5-A4OM                                        no  3.994521      1  train  \n",
       "TCGA-S8-A6BW                                        no  1.698630      0  train  \n",
       "TCGA-LN-A4A9                                        no  0.961644      1  train  \n",
       "TCGA-L5-A43E                                        no  2.520548      0  train  "
      ]
     },
     "execution_count": 77,
     "metadata": {},
     "output_type": "execute_result"
    }
   ],
   "source": [
    "clinical.head()"
   ]
  },
  {
   "cell_type": "markdown",
   "metadata": {},
   "source": [
    "# Encode categorical variables\n",
    "\n",
    "Encode labels (with a value between 0 and n_classes-1) to use with categorical embeddings."
   ]
  },
  {
   "cell_type": "code",
   "execution_count": 78,
   "metadata": {},
   "outputs": [],
   "source": [
    "# Drop unnecessary columns\n",
    "clinical = clinical.drop(columns=['days_to_death', 'days_to_last_follow_up', 'vital_status'])"
   ]
  },
  {
   "cell_type": "code",
   "execution_count": 79,
   "metadata": {},
   "outputs": [
    {
     "data": {
      "text/plain": [
       "Index(['project_id', 'synchronous_malignancy', 'tumor_stage',\n",
       "       'age_at_diagnosis', 'prior_malignancy', 'prior_treatment', 'race',\n",
       "       'gender', 'treatments_pharmaceutical_treatment_or_therapy',\n",
       "       'treatments_radiation_treatment_or_therapy', 'time', 'event', 'group'],\n",
       "      dtype='object')"
      ]
     },
     "execution_count": 79,
     "metadata": {},
     "output_type": "execute_result"
    }
   ],
   "source": [
    "clinical.columns"
   ]
  },
  {
   "cell_type": "code",
   "execution_count": 80,
   "metadata": {},
   "outputs": [
    {
     "data": {
      "text/plain": [
       "['time', 'event', 'group']"
      ]
     },
     "execution_count": 80,
     "metadata": {},
     "output_type": "execute_result"
    }
   ],
   "source": [
    "skip = ['time', 'event', 'group']\n",
    "skip"
   ]
  },
  {
   "cell_type": "code",
   "execution_count": 81,
   "metadata": {},
   "outputs": [
    {
     "data": {
      "text/plain": [
       "['age_at_diagnosis']"
      ]
     },
     "execution_count": 81,
     "metadata": {},
     "output_type": "execute_result"
    }
   ],
   "source": [
    "continuous"
   ]
  },
  {
   "cell_type": "code",
   "execution_count": 82,
   "metadata": {},
   "outputs": [
    {
     "data": {
      "text/plain": [
       "13"
      ]
     },
     "execution_count": 82,
     "metadata": {},
     "output_type": "execute_result"
    }
   ],
   "source": [
    "len(clinical.columns)"
   ]
  },
  {
   "cell_type": "code",
   "execution_count": 83,
   "metadata": {},
   "outputs": [
    {
     "data": {
      "text/plain": [
       "13"
      ]
     },
     "execution_count": 83,
     "metadata": {},
     "output_type": "execute_result"
    }
   ],
   "source": [
    "categorical = [col for col in clinical.columns if col not in skip + continuous]\n",
    "\n",
    "len(skip) + len(continuous) + len(categorical)"
   ]
  },
  {
   "cell_type": "code",
   "execution_count": 84,
   "metadata": {},
   "outputs": [
    {
     "name": "stdout",
     "output_type": "stream",
     "text": [
      "project_id: 33\n",
      "synchronous_malignancy: 3\n",
      "tumor_stage: 19\n",
      "prior_malignancy: 3\n",
      "prior_treatment: 3\n",
      "race: 8\n",
      "gender: 2\n",
      "treatments_pharmaceutical_treatment_or_therapy: 3\n",
      "treatments_radiation_treatment_or_therapy: 3\n"
     ]
    }
   ],
   "source": [
    "for feat in categorical:\n",
    "    print(f'{feat}: {len(clinical[feat].unique())}')"
   ]
  },
  {
   "cell_type": "code",
   "execution_count": 85,
   "metadata": {},
   "outputs": [
    {
     "data": {
      "text/plain": [
       "13"
      ]
     },
     "execution_count": 85,
     "metadata": {},
     "output_type": "execute_result"
    }
   ],
   "source": [
    "len(clinical.columns)"
   ]
  },
  {
   "cell_type": "code",
   "execution_count": 86,
   "metadata": {},
   "outputs": [],
   "source": [
    "# Reorder columns\n",
    "categorical = ['project_id',  'gender', 'race', 'prior_treatment', 'prior_malignancy', 'synchronous_malignancy',\n",
    "               'treatments_pharmaceutical_treatment_or_therapy',\n",
    "               'treatments_radiation_treatment_or_therapy',\n",
    "               'tumor_stage']\n",
    "\n",
    "clinical = clinical[categorical + continuous + skip]"
   ]
  },
  {
   "cell_type": "code",
   "execution_count": 87,
   "metadata": {},
   "outputs": [
    {
     "data": {
      "text/plain": [
       "13"
      ]
     },
     "execution_count": 87,
     "metadata": {},
     "output_type": "execute_result"
    }
   ],
   "source": [
    "len(clinical.columns)"
   ]
  },
  {
   "cell_type": "code",
   "execution_count": 88,
   "metadata": {},
   "outputs": [],
   "source": [
    "# Save a copy of the table to allow inclusion of unencoded \"project_id\" in the labels table\n",
    "survival = clinical.copy()"
   ]
  },
  {
   "cell_type": "code",
   "execution_count": 89,
   "metadata": {},
   "outputs": [],
   "source": [
    "split_groups = ['train', 'val', 'test']\n",
    "\n",
    "label_encoders = {}\n",
    "for feature in categorical:\n",
    "    clinical[feature] = clinical[feature].astype(str)\n",
    "    label_encoders[feature] = LabelEncoder()\n",
    "    label_encoders[feature].fit(\n",
    "        clinical.loc[clinical['group'] == 'train', feature])\n",
    "\n",
    "for group in split_groups:\n",
    "    for feature in categorical:\n",
    "        clinical.loc[\n",
    "            clinical['group'] == group, feature] = label_encoders[feature].transform(\n",
    "            clinical.loc[clinical['group'] == group, feature])"
   ]
  },
  {
   "cell_type": "markdown",
   "metadata": {},
   "source": [
    "The embedding dimensions (in a list of two-tuples) are calculated in the next cell: number of unique values paired with the embedding dimension for each categorical feature.\n",
    "\n",
    "The embedding size is determined according to the rule-of-thumb from the Fast.ai course."
   ]
  },
  {
   "cell_type": "code",
   "execution_count": 90,
   "metadata": {},
   "outputs": [
    {
     "name": "stdout",
     "output_type": "stream",
     "text": [
      "Feature                                            Levels   Embedding dims\n",
      "-------                                            ------   --------------\n",
      "project_id                                          33       17\n",
      "gender                                              2        1\n",
      "race                                                8        4\n",
      "prior_treatment                                     3        2\n",
      "prior_malignancy                                    3        2\n",
      "synchronous_malignancy                              3        2\n",
      "treatments_pharmaceutical_treatment_or_therapy      3        2\n",
      "treatments_radiation_treatment_or_therapy           3        2\n",
      "tumor_stage                                         19       10\n"
     ]
    }
   ],
   "source": [
    "categorical_dims = [int(clinical[col].nunique()) for col in categorical]\n",
    "embedding_dims = [(x, min(50, (x + 1) // 2)) for x in categorical_dims]\n",
    "\n",
    "embedding_dims\n",
    "\n",
    "print('Feature                                            Levels   Embedding dims')\n",
    "print('-------                                            ------   --------------')\n",
    "for i, feat in enumerate(categorical):\n",
    "    print(feat, ' ' * (50 - len(feat)), embedding_dims[i][0],\n",
    "          ' ' * (7 - len(str(embedding_dims[i][0]))), embedding_dims[i][1])"
   ]
  },
  {
   "cell_type": "markdown",
   "metadata": {},
   "source": [
    "# Save patient data to files"
   ]
  },
  {
   "cell_type": "markdown",
   "metadata": {},
   "source": [
    "## Survival labels"
   ]
  },
  {
   "cell_type": "code",
   "execution_count": 91,
   "metadata": {},
   "outputs": [],
   "source": [
    "survival['submitter_id'] = survival.index\n",
    "survival = survival.reset_index(drop=True)\n",
    "\n",
    "label_columns = ['submitter_id', 'project_id', 'time', 'event', 'group']\n",
    "survival = survival.loc[:, label_columns]"
   ]
  },
  {
   "cell_type": "code",
   "execution_count": 92,
   "metadata": {},
   "outputs": [
    {
     "data": {
      "text/html": [
       "<div>\n",
       "<style scoped>\n",
       "    .dataframe tbody tr th:only-of-type {\n",
       "        vertical-align: middle;\n",
       "    }\n",
       "\n",
       "    .dataframe tbody tr th {\n",
       "        vertical-align: top;\n",
       "    }\n",
       "\n",
       "    .dataframe thead th {\n",
       "        text-align: right;\n",
       "    }\n",
       "</style>\n",
       "<table border=\"1\" class=\"dataframe\">\n",
       "  <thead>\n",
       "    <tr style=\"text-align: right;\">\n",
       "      <th></th>\n",
       "      <th>submitter_id</th>\n",
       "      <th>project_id</th>\n",
       "      <th>time</th>\n",
       "      <th>event</th>\n",
       "      <th>group</th>\n",
       "    </tr>\n",
       "  </thead>\n",
       "  <tbody>\n",
       "    <tr>\n",
       "      <th>0</th>\n",
       "      <td>TCGA-2H-A9GL</td>\n",
       "      <td>TCGA-ESCA</td>\n",
       "      <td>0.493151</td>\n",
       "      <td>1</td>\n",
       "      <td>train</td>\n",
       "    </tr>\n",
       "    <tr>\n",
       "      <th>1</th>\n",
       "      <td>TCGA-L5-A4OM</td>\n",
       "      <td>TCGA-ESCA</td>\n",
       "      <td>3.994521</td>\n",
       "      <td>1</td>\n",
       "      <td>train</td>\n",
       "    </tr>\n",
       "    <tr>\n",
       "      <th>2</th>\n",
       "      <td>TCGA-S8-A6BW</td>\n",
       "      <td>TCGA-ESCA</td>\n",
       "      <td>1.698630</td>\n",
       "      <td>0</td>\n",
       "      <td>train</td>\n",
       "    </tr>\n",
       "    <tr>\n",
       "      <th>3</th>\n",
       "      <td>TCGA-LN-A4A9</td>\n",
       "      <td>TCGA-ESCA</td>\n",
       "      <td>0.961644</td>\n",
       "      <td>1</td>\n",
       "      <td>train</td>\n",
       "    </tr>\n",
       "    <tr>\n",
       "      <th>4</th>\n",
       "      <td>TCGA-L5-A43E</td>\n",
       "      <td>TCGA-ESCA</td>\n",
       "      <td>2.520548</td>\n",
       "      <td>0</td>\n",
       "      <td>train</td>\n",
       "    </tr>\n",
       "  </tbody>\n",
       "</table>\n",
       "</div>"
      ],
      "text/plain": [
       "   submitter_id project_id      time  event  group\n",
       "0  TCGA-2H-A9GL  TCGA-ESCA  0.493151      1  train\n",
       "1  TCGA-L5-A4OM  TCGA-ESCA  3.994521      1  train\n",
       "2  TCGA-S8-A6BW  TCGA-ESCA  1.698630      0  train\n",
       "3  TCGA-LN-A4A9  TCGA-ESCA  0.961644      1  train\n",
       "4  TCGA-L5-A43E  TCGA-ESCA  2.520548      0  train"
      ]
     },
     "execution_count": 92,
     "metadata": {},
     "output_type": "execute_result"
    }
   ],
   "source": [
    "survival.head()"
   ]
  },
  {
   "cell_type": "raw",
   "metadata": {},
   "source": [
    "survival.to_csv('labels.tsv', sep='\\t', index=False)"
   ]
  },
  {
   "cell_type": "markdown",
   "metadata": {},
   "source": [
    "## Clinical data\n",
    "\n",
    "Save preprocessed clinical data as individual patient files (to use with PyTorch dataset)."
   ]
  },
  {
   "cell_type": "code",
   "execution_count": 93,
   "metadata": {},
   "outputs": [
    {
     "data": {
      "text/plain": [
       "['time', 'event', 'group']"
      ]
     },
     "execution_count": 93,
     "metadata": {},
     "output_type": "execute_result"
    }
   ],
   "source": [
    "skip"
   ]
  },
  {
   "cell_type": "code",
   "execution_count": 94,
   "metadata": {},
   "outputs": [],
   "source": [
    "clinical = clinical[categorical + continuous]"
   ]
  },
  {
   "cell_type": "code",
   "execution_count": 95,
   "metadata": {},
   "outputs": [
    {
     "data": {
      "text/html": [
       "<div>\n",
       "<style scoped>\n",
       "    .dataframe tbody tr th:only-of-type {\n",
       "        vertical-align: middle;\n",
       "    }\n",
       "\n",
       "    .dataframe tbody tr th {\n",
       "        vertical-align: top;\n",
       "    }\n",
       "\n",
       "    .dataframe thead th {\n",
       "        text-align: right;\n",
       "    }\n",
       "</style>\n",
       "<table border=\"1\" class=\"dataframe\">\n",
       "  <thead>\n",
       "    <tr style=\"text-align: right;\">\n",
       "      <th></th>\n",
       "      <th>project_id</th>\n",
       "      <th>gender</th>\n",
       "      <th>race</th>\n",
       "      <th>prior_treatment</th>\n",
       "      <th>prior_malignancy</th>\n",
       "      <th>synchronous_malignancy</th>\n",
       "      <th>treatments_pharmaceutical_treatment_or_therapy</th>\n",
       "      <th>treatments_radiation_treatment_or_therapy</th>\n",
       "      <th>tumor_stage</th>\n",
       "      <th>age_at_diagnosis</th>\n",
       "    </tr>\n",
       "    <tr>\n",
       "      <th>submitter_id</th>\n",
       "      <th></th>\n",
       "      <th></th>\n",
       "      <th></th>\n",
       "      <th></th>\n",
       "      <th></th>\n",
       "      <th></th>\n",
       "      <th></th>\n",
       "      <th></th>\n",
       "      <th></th>\n",
       "      <th></th>\n",
       "    </tr>\n",
       "  </thead>\n",
       "  <tbody>\n",
       "    <tr>\n",
       "      <th>TCGA-2H-A9GL</th>\n",
       "      <td>7</td>\n",
       "      <td>1</td>\n",
       "      <td>4</td>\n",
       "      <td>0</td>\n",
       "      <td>1</td>\n",
       "      <td>0</td>\n",
       "      <td>1</td>\n",
       "      <td>1</td>\n",
       "      <td>8</td>\n",
       "      <td>0.800727</td>\n",
       "    </tr>\n",
       "    <tr>\n",
       "      <th>TCGA-L5-A4OM</th>\n",
       "      <td>7</td>\n",
       "      <td>0</td>\n",
       "      <td>7</td>\n",
       "      <td>0</td>\n",
       "      <td>1</td>\n",
       "      <td>0</td>\n",
       "      <td>1</td>\n",
       "      <td>1</td>\n",
       "      <td>2</td>\n",
       "      <td>0.549083</td>\n",
       "    </tr>\n",
       "    <tr>\n",
       "      <th>TCGA-S8-A6BW</th>\n",
       "      <td>7</td>\n",
       "      <td>1</td>\n",
       "      <td>7</td>\n",
       "      <td>0</td>\n",
       "      <td>1</td>\n",
       "      <td>0</td>\n",
       "      <td>1</td>\n",
       "      <td>1</td>\n",
       "      <td>3</td>\n",
       "      <td>0.517895</td>\n",
       "    </tr>\n",
       "    <tr>\n",
       "      <th>TCGA-LN-A4A9</th>\n",
       "      <td>7</td>\n",
       "      <td>1</td>\n",
       "      <td>1</td>\n",
       "      <td>0</td>\n",
       "      <td>1</td>\n",
       "      <td>0</td>\n",
       "      <td>1</td>\n",
       "      <td>1</td>\n",
       "      <td>5</td>\n",
       "      <td>0.596573</td>\n",
       "    </tr>\n",
       "    <tr>\n",
       "      <th>TCGA-L5-A43E</th>\n",
       "      <td>7</td>\n",
       "      <td>1</td>\n",
       "      <td>7</td>\n",
       "      <td>0</td>\n",
       "      <td>1</td>\n",
       "      <td>0</td>\n",
       "      <td>1</td>\n",
       "      <td>1</td>\n",
       "      <td>1</td>\n",
       "      <td>0.801696</td>\n",
       "    </tr>\n",
       "  </tbody>\n",
       "</table>\n",
       "</div>"
      ],
      "text/plain": [
       "             project_id gender race prior_treatment prior_malignancy  \\\n",
       "submitter_id                                                           \n",
       "TCGA-2H-A9GL          7      1    4               0                1   \n",
       "TCGA-L5-A4OM          7      0    7               0                1   \n",
       "TCGA-S8-A6BW          7      1    7               0                1   \n",
       "TCGA-LN-A4A9          7      1    1               0                1   \n",
       "TCGA-L5-A43E          7      1    7               0                1   \n",
       "\n",
       "             synchronous_malignancy  \\\n",
       "submitter_id                          \n",
       "TCGA-2H-A9GL                      0   \n",
       "TCGA-L5-A4OM                      0   \n",
       "TCGA-S8-A6BW                      0   \n",
       "TCGA-LN-A4A9                      0   \n",
       "TCGA-L5-A43E                      0   \n",
       "\n",
       "             treatments_pharmaceutical_treatment_or_therapy  \\\n",
       "submitter_id                                                  \n",
       "TCGA-2H-A9GL                                              1   \n",
       "TCGA-L5-A4OM                                              1   \n",
       "TCGA-S8-A6BW                                              1   \n",
       "TCGA-LN-A4A9                                              1   \n",
       "TCGA-L5-A43E                                              1   \n",
       "\n",
       "             treatments_radiation_treatment_or_therapy tumor_stage  \\\n",
       "submitter_id                                                         \n",
       "TCGA-2H-A9GL                                         1           8   \n",
       "TCGA-L5-A4OM                                         1           2   \n",
       "TCGA-S8-A6BW                                         1           3   \n",
       "TCGA-LN-A4A9                                         1           5   \n",
       "TCGA-L5-A43E                                         1           1   \n",
       "\n",
       "              age_at_diagnosis  \n",
       "submitter_id                    \n",
       "TCGA-2H-A9GL          0.800727  \n",
       "TCGA-L5-A4OM          0.549083  \n",
       "TCGA-S8-A6BW          0.517895  \n",
       "TCGA-LN-A4A9          0.596573  \n",
       "TCGA-L5-A43E          0.801696  "
      ]
     },
     "execution_count": 95,
     "metadata": {},
     "output_type": "execute_result"
    }
   ],
   "source": [
    "clinical.head()"
   ]
  },
  {
   "cell_type": "code",
   "execution_count": 96,
   "metadata": {},
   "outputs": [],
   "source": [
    "def table_to_patient_files(table, dir_path, round_digits=4):\n",
    "    n = len(table)\n",
    "    \n",
    "    i = 0\n",
    "\n",
    "    for index, row in table.iterrows():\n",
    "        print('\\r' + f'Save data to files: {str(i + 1)}/{n}', end='')\n",
    "        i+= 1\n",
    "\n",
    "        target_file = os.path.join(dir_path, str(index) + '.tsv')\n",
    "        \n",
    "        with open(target_file, 'w') as f:\n",
    "            if round_digits is not None:\n",
    "                f.write('\\n'.join(str(round(value, round_digits)) for value in row.values))\n",
    "            else:\n",
    "                f.write('\\n'.join(str(value) for value in row.values))\n",
    "\n",
    "    print()\n",
    "    print()"
   ]
  },
  {
   "cell_type": "code",
   "execution_count": 100,
   "metadata": {},
   "outputs": [
    {
     "name": "stdout",
     "output_type": "stream",
     "text": [
      "Save data to files: 11081/11081\n",
      "\n",
      "CPU times: user 1.57 s, sys: 353 ms, total: 1.92 s\n",
      "Wall time: 1.67 s\n"
     ]
    }
   ],
   "source": [
    "%%time\n",
    "\n",
    "table_to_patient_files(clinical, dir_path=DATA_LOCATION, round_digits=None)"
   ]
  },
  {
   "cell_type": "markdown",
   "metadata": {},
   "source": [
    "# Watermark <a class='tocSkip'></a>"
   ]
  },
  {
   "cell_type": "code",
   "execution_count": 101,
   "metadata": {},
   "outputs": [
    {
     "name": "stdout",
     "output_type": "stream",
     "text": [
      "pandas 1.0.1\n",
      "\n",
      "CPython 3.6.7\n",
      "IPython 7.11.1\n",
      "\n",
      "last updated: Tue Nov 22 2022\n"
     ]
    }
   ],
   "source": [
    "%watermark --iversions\n",
    "%watermark -v\n",
    "print()\n",
    "%watermark -u -n"
   ]
  },
  {
   "cell_type": "markdown",
   "metadata": {},
   "source": [
    "[Top of the page](#Top)"
   ]
  }
 ],
 "metadata": {
  "kernelspec": {
   "display_name": "Python 3",
   "language": "python",
   "name": "python3"
  },
  "language_info": {
   "codemirror_mode": {
    "name": "ipython",
    "version": 3
   },
   "file_extension": ".py",
   "mimetype": "text/x-python",
   "name": "python",
   "nbconvert_exporter": "python",
   "pygments_lexer": "ipython3",
   "version": "3.6.7"
  },
  "toc": {
   "base_numbering": 1,
   "nav_menu": {
    "height": "197px",
    "width": "372px"
   },
   "number_sections": true,
   "sideBar": true,
   "skip_h1_title": false,
   "title_cell": "Table of Contents",
   "title_sidebar": "Contents",
   "toc_cell": true,
   "toc_position": {
    "height": "calc(100% - 180px)",
    "left": "10px",
    "top": "150px",
    "width": "298px"
   },
   "toc_section_display": true,
   "toc_window_display": false
  }
 },
 "nbformat": 4,
 "nbformat_minor": 2
}
