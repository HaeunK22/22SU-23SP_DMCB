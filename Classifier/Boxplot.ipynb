{
 "cells": [
  {
   "cell_type": "code",
   "execution_count": 1,
   "metadata": {},
   "outputs": [],
   "source": [
    "import os \n",
    "import pandas as pd \n",
    "import numpy as np\n",
    "from sklearn.model_selection import train_test_split\n",
    "import matplotlib.pyplot as plt"
   ]
  },
  {
   "cell_type": "code",
   "execution_count": 2,
   "metadata": {},
   "outputs": [
    {
     "data": {
      "text/plain": [
       "'c:\\\\TCGA-LIHC'"
      ]
     },
     "execution_count": 2,
     "metadata": {},
     "output_type": "execute_result"
    }
   ],
   "source": [
    "os.getcwd()"
   ]
  },
  {
   "cell_type": "markdown",
   "metadata": {},
   "source": [
    "Data Loading"
   ]
  },
  {
   "cell_type": "code",
   "execution_count": 3,
   "metadata": {},
   "outputs": [],
   "source": [
    "expr_data = pd.read_table(\"./gene_expression\")\n",
    "gene_list = expr_data['sample']\n",
    "expr = expr_data.drop(['sample'],axis=1)\n",
    "expr = expr.transpose()\n",
    "\n",
    "clinical_data = pd.read_table(\"./TCGA.LIHC.sampleMap_LIHC_clinicalMatrix\")\n",
    "idx = []\n",
    "for sample in expr.index:\n",
    "    sampleID_list = clinical_data['sampleID'].tolist()\n",
    "    tmp = sampleID_list.index(sample)\n",
    "    idx.append(tmp)\n",
    "\n",
    "clinical_core = clinical_data.reindex(idx)\n",
    "map_dict = {'Primary Tumor' : 1,\n",
    "            'Recurrent Tumor' : 1,\n",
    "            'Solid Tissue Normal' : 0}\n",
    "clinical_core = clinical_core['sample_type'].apply(lambda x : map_dict[x])"
   ]
  },
  {
   "cell_type": "markdown",
   "metadata": {},
   "source": [
    "Support Vector Machine"
   ]
  },
  {
   "cell_type": "code",
   "execution_count": 4,
   "metadata": {},
   "outputs": [],
   "source": [
    "from sklearn.pipeline import make_pipeline\n",
    "from sklearn.preprocessing import StandardScaler\n",
    "from sklearn.svm import SVC\n",
    "from sklearn.metrics import accuracy_score, f1_score"
   ]
  },
  {
   "cell_type": "code",
   "execution_count": 5,
   "metadata": {},
   "outputs": [],
   "source": [
    "X = expr\n",
    "y = clinical_core"
   ]
  },
  {
   "cell_type": "code",
   "execution_count": 6,
   "metadata": {},
   "outputs": [
    {
     "name": "stdout",
     "output_type": "stream",
     "text": [
      "Average of svm_acc : 0.9872440944881906\n",
      "Average of svm_f1 : 0.9697034755446124\n"
     ]
    }
   ],
   "source": [
    "svm_acc,svm_f1 = [], []\n",
    "for i in range(100):\n",
    "    train_X, test_X, train_y, test_y = train_test_split(X, y, test_size=0.3, random_state=i)\n",
    "    clf  = make_pipeline(StandardScaler(), SVC(gamma= 'auto'))\n",
    "    clf.fit(train_X, train_y)\n",
    "    \n",
    "    predict = clf.predict(test_X)\n",
    "    \n",
    "    svm_acc.append(float(accuracy_score(test_y, predict)))\n",
    "    svm_f1.append(float(f1_score(test_y, predict, average = 'macro')))\n",
    "    \n",
    "print(f\"Average of svm_acc : {sum(svm_acc)/len(svm_acc)}\")\n",
    "print(f\"Average of svm_f1 : {sum(svm_f1)/len(svm_f1)}\")"
   ]
  },
  {
   "cell_type": "code",
   "execution_count": 7,
   "metadata": {},
   "outputs": [],
   "source": [
    "data = [svm_acc, svm_f1]\n",
    "# plt.boxplot(data)\n",
    "# plt.show"
   ]
  },
  {
   "cell_type": "markdown",
   "metadata": {},
   "source": [
    "Random Forest"
   ]
  },
  {
   "cell_type": "code",
   "execution_count": 8,
   "metadata": {},
   "outputs": [],
   "source": [
    "from sklearn.ensemble import RandomForestClassifier"
   ]
  },
  {
   "cell_type": "code",
   "execution_count": 9,
   "metadata": {},
   "outputs": [],
   "source": [
    "X = expr\n",
    "y = clinical_core"
   ]
  },
  {
   "cell_type": "code",
   "execution_count": 10,
   "metadata": {},
   "outputs": [
    {
     "name": "stdout",
     "output_type": "stream",
     "text": [
      "Average of rf_acc : 0.9799212598425201\n",
      "Average of rf_f1 : 0.9518143091304492\n"
     ]
    }
   ],
   "source": [
    "rf_acc, rf_f1 = [], []\n",
    "\n",
    "for i in range(100):\n",
    "    train_X, test_X, train_y, test_y = train_test_split(X, y, test_size=0.3, random_state=i)\n",
    "    clf = RandomForestClassifier(n_estimators=10, max_depth=5, random_state=0)\n",
    "    clf.fit(train_X, train_y)\n",
    "\n",
    "    predict = clf.predict(test_X)\n",
    "    \n",
    "    rf_acc.append(float(accuracy_score(test_y, predict)))\n",
    "    rf_f1.append(float(f1_score(test_y, predict, average = 'macro')))\n",
    "    \n",
    "print(f\"Average of rf_acc : {sum(rf_acc)/len(rf_acc)}\")\n",
    "print(f\"Average of rf_f1 : {sum(rf_f1)/len(rf_f1)}\")"
   ]
  },
  {
   "cell_type": "code",
   "execution_count": 12,
   "metadata": {},
   "outputs": [],
   "source": [
    "data.append(rf_acc)\n",
    "data.append(rf_f1)\n",
    "\n",
    "# plt.boxplot(data)\n",
    "# plt.show"
   ]
  },
  {
   "cell_type": "markdown",
   "metadata": {},
   "source": [
    "Neural Network"
   ]
  },
  {
   "cell_type": "code",
   "execution_count": 13,
   "metadata": {},
   "outputs": [],
   "source": [
    "import torch\n",
    "from torch import nn\n",
    "from torch.utils.data import DataLoader\n",
    "from torch.utils.data import Dataset\n",
    "from torchvision import datasets\n",
    "from torchvision.transforms import ToTensor, Lambda\n",
    "\n",
    "\n",
    "X = torch.tensor(expr.to_numpy(), dtype=torch.float)\n",
    "y = torch.tensor(clinical_core.to_numpy(), dtype=torch.long)\n",
    "train_X, test_X, train_y, test_y = train_test_split(X, y, test_size=0.3, random_state=42)\n",
    "\n",
    "class TrainDataset(Dataset):\n",
    "    def __init__(self):\n",
    "        self.x_data = train_X\n",
    "        self.y_data = train_y\n",
    "    \n",
    "    def __len__(self):\n",
    "        return len(self.x_data)\n",
    "    \n",
    "    def __getitem__(self, index):\n",
    "        x = torch.tensor(self.x_data[index]).clone().detach()\n",
    "        y = torch.tensor(self.y_data[index]).clone().detach()\n",
    "        return x, y\n",
    "    \n",
    "class TestDataset(Dataset):\n",
    "    def __init__(self):\n",
    "        self.x_data = test_X\n",
    "        self.y_data = test_y\n",
    "    \n",
    "    def __len__(self):\n",
    "        return len(self.x_data)\n",
    "    \n",
    "    def __getitem__(self, index):\n",
    "        x = torch.tensor(self.x_data[index]).clone().detach()\n",
    "        y = torch.tensor(self.y_data[index]).clone().detach()\n",
    "        return x, y\n",
    "    \n",
    "training_data = TrainDataset()\n",
    "test_data = TestDataset()\n",
    "\n",
    "train_dataloader = DataLoader(training_data, batch_size = 64)\n",
    "test_dataloader = DataLoader(test_data, batch_size = 64)\n",
    "\n",
    "\n",
    "\n",
    "class NeuralNetwork(nn.Module):\n",
    "    def __init__(self):\n",
    "        super(NeuralNetwork, self).__init__()\n",
    "        self.linear_relu_stack = nn.Sequential(\n",
    "            nn.Linear(20530, 1024),\n",
    "            nn.ReLU(),\n",
    "            nn.Linear(1024,512),\n",
    "            nn.ReLU(),\n",
    "            nn.Linear(512,2),\n",
    "        )\n",
    "        \n",
    "    def forward(self, x):\n",
    "        logits = self.linear_relu_stack(x)\n",
    "        return logits\n",
    "\n",
    "model = NeuralNetwork()\n",
    "\n",
    "learning_rate = 2e-5\n",
    "batch_size = 64\n",
    "epochs = 10\n",
    "\n",
    "loss_fn = nn.CrossEntropyLoss()\n",
    "optimizer = torch.optim.Adam(model.parameters(), lr=learning_rate)\n",
    "\n",
    "nn_acc = []\n",
    "\n",
    "def train_loop(dataloader, model, loss_fn, optimizer):\n",
    "    size = len(dataloader.dataset)\n",
    "    for batch, (X, y) in enumerate(dataloader):\n",
    "        # Compute prediction and loss\n",
    "        pred = model(X)\n",
    "        loss = loss_fn(pred, y)\n",
    "\n",
    "        # Backpropagation\n",
    "        optimizer.zero_grad()   # bc/ gradients by default add up; to prevent double counting.\n",
    "        loss.backward() # deposits gradients\n",
    "        optimizer.step()    # adjust parameters with gradients\n",
    "\n",
    "        # if batch % 100 == 0:\n",
    "            # loss, current = loss.item(), batch * len(X)\n",
    "            # print(f\"loss: {loss:>7f}  [{current:>5d}/{size:>5d}]\")\n",
    "\n",
    "# iterate over test dataset to check model performance\n",
    "def test_loop(dataloader, model, loss_fn, t):\n",
    "    size = len(dataloader.dataset)\n",
    "    num_batches = len(dataloader)\n",
    "    test_loss, correct = 0, 0\n",
    "\n",
    "    with torch.no_grad():\n",
    "        for X, y in dataloader:\n",
    "            pred = model(X)\n",
    "            test_loss += loss_fn(pred, y).item()\n",
    "            correct += (pred.argmax(1) == y).type(torch.float).sum().item()\n",
    "\n",
    "    test_loss /= num_batches\n",
    "    correct /= size\n",
    "    \n",
    "    # print(f\"Test Error: \\n Accuracy: {(100*correct):>0.1f}%, Avg loss: {test_loss:>8f} \\n\")\n",
    "    \n",
    "    if (t == epochs - 1):\n",
    "        nn_acc.append(float(correct))"
   ]
  },
  {
   "cell_type": "code",
   "execution_count": 14,
   "metadata": {},
   "outputs": [],
   "source": [
    "import warnings\n",
    "warnings.filterwarnings('ignore')"
   ]
  },
  {
   "cell_type": "code",
   "execution_count": 15,
   "metadata": {},
   "outputs": [],
   "source": [
    "for i in range(100):\n",
    "    # print(f\"Num {i+1}\\n==============================\")\n",
    "    model = NeuralNetwork()\n",
    "    optimizer = torch.optim.Adam(model.parameters(), lr=learning_rate)\n",
    "    train_X, test_X, train_y, test_y = train_test_split(X, y, test_size=0.3, random_state=i)\n",
    "    \n",
    "    for t in range(epochs):\n",
    "        # print(f\"Epoch {t+1}\\n-------------------------------\")\n",
    "        train_loop(train_dataloader, model, loss_fn, optimizer)\n",
    "        test_loop(test_dataloader, model, loss_fn, t)"
   ]
  },
  {
   "cell_type": "code",
   "execution_count": 20,
   "metadata": {},
   "outputs": [
    {
     "name": "stdout",
     "output_type": "stream",
     "text": [
      "Average of nn_acc : 0.9834645669291352\n"
     ]
    }
   ],
   "source": [
    "print(f\"Average of nn_acc : {sum(nn_acc)/len(nn_acc)}\")"
   ]
  },
  {
   "cell_type": "code",
   "execution_count": 16,
   "metadata": {},
   "outputs": [],
   "source": [
    "data.append(nn_acc)\n",
    "\n",
    "# plt.boxplot(nn_acc)\n",
    "# plt.show"
   ]
  },
  {
   "cell_type": "code",
   "execution_count": 19,
   "metadata": {},
   "outputs": [
    {
     "data": {
      "text/plain": [
       "<function matplotlib.pyplot.show(close=None, block=None)>"
      ]
     },
     "execution_count": 19,
     "metadata": {},
     "output_type": "execute_result"
    },
    {
     "data": {
      "image/png": "[encoded data removed]",
      "text/plain": [
       "<Figure size 640x960 with 1 Axes>"
      ]
     },
     "metadata": {
      "needs_background": "light"
     },
     "output_type": "display_data"
    }
   ],
   "source": [
    "from matplotlib.pyplot import figure\n",
    "\n",
    "figure(figsize=(8, 12), dpi=80)\n",
    "\n",
    "plt.boxplot(data, labels= ['svm_acc', 'svm_f1', 'rf_acc', 'rf_f1', 'nn_acc'])\n",
    "\n",
    "plt.show"
   ]
  }
 ],
 "metadata": {
  "kernelspec": {
   "display_name": "Python 3.10.4 ('hek')",
   "language": "python",
   "name": "python3"
  },
  "language_info": {
   "codemirror_mode": {
    "name": "ipython",
    "version": 3
   },
   "file_extension": ".py",
   "mimetype": "text/x-python",
   "name": "python",
   "nbconvert_exporter": "python",
   "pygments_lexer": "ipython3",
   "version": "3.10.4"
  },
  "orig_nbformat": 4,
  "vscode": {
   "interpreter": {
    "hash": "0491cbb347169b674faecc57483f555701d022daf991287b1e1cb5e40250a57a"
   }
  }
 },
 "nbformat": 4,
 "nbformat_minor": 2
}
