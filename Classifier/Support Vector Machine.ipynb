{
 "cells": [
  {
   "cell_type": "code",
   "execution_count": 1,
   "metadata": {},
   "outputs": [],
   "source": [
    "import os \n",
    "import pandas as pd \n",
    "import numpy as np\n",
    "from sklearn.model_selection import train_test_split"
   ]
  },
  {
   "cell_type": "code",
   "execution_count": 2,
   "metadata": {},
   "outputs": [
    {
     "data": {
      "text/plain": [
       "'c:\\\\TCGA-LIHC'"
      ]
     },
     "execution_count": 2,
     "metadata": {},
     "output_type": "execute_result"
    }
   ],
   "source": [
    "os.getcwd()"
   ]
  },
  {
   "cell_type": "markdown",
   "metadata": {},
   "source": [
    "Data Loading"
   ]
  },
  {
   "cell_type": "code",
   "execution_count": 3,
   "metadata": {},
   "outputs": [
    {
     "data": {
      "text/html": [
       "<div>\n",
       "<style scoped>\n",
       "    .dataframe tbody tr th:only-of-type {\n",
       "        vertical-align: middle;\n",
       "    }\n",
       "\n",
       "    .dataframe tbody tr th {\n",
       "        vertical-align: top;\n",
       "    }\n",
       "\n",
       "    .dataframe thead th {\n",
       "        text-align: right;\n",
       "    }\n",
       "</style>\n",
       "<table border=\"1\" class=\"dataframe\">\n",
       "  <thead>\n",
       "    <tr style=\"text-align: right;\">\n",
       "      <th></th>\n",
       "      <th>0</th>\n",
       "      <th>1</th>\n",
       "      <th>2</th>\n",
       "      <th>3</th>\n",
       "      <th>4</th>\n",
       "      <th>5</th>\n",
       "      <th>6</th>\n",
       "      <th>7</th>\n",
       "      <th>8</th>\n",
       "      <th>9</th>\n",
       "      <th>...</th>\n",
       "      <th>20520</th>\n",
       "      <th>20521</th>\n",
       "      <th>20522</th>\n",
       "      <th>20523</th>\n",
       "      <th>20524</th>\n",
       "      <th>20525</th>\n",
       "      <th>20526</th>\n",
       "      <th>20527</th>\n",
       "      <th>20528</th>\n",
       "      <th>20529</th>\n",
       "    </tr>\n",
       "  </thead>\n",
       "  <tbody>\n",
       "    <tr>\n",
       "      <th>TCGA-FV-A495-01</th>\n",
       "      <td>11.1818</td>\n",
       "      <td>5.2482</td>\n",
       "      <td>4.1956</td>\n",
       "      <td>11.5047</td>\n",
       "      <td>9.5995</td>\n",
       "      <td>9.6257</td>\n",
       "      <td>11.8053</td>\n",
       "      <td>5.6835</td>\n",
       "      <td>0.0000</td>\n",
       "      <td>8.7486</td>\n",
       "      <td>...</td>\n",
       "      <td>0.0000</td>\n",
       "      <td>0.8379</td>\n",
       "      <td>6.1672</td>\n",
       "      <td>1.7494</td>\n",
       "      <td>8.0444</td>\n",
       "      <td>12.3759</td>\n",
       "      <td>8.0357</td>\n",
       "      <td>13.5037</td>\n",
       "      <td>8.7327</td>\n",
       "      <td>10.4145</td>\n",
       "    </tr>\n",
       "    <tr>\n",
       "      <th>TCGA-G3-A3CH-11</th>\n",
       "      <td>11.0186</td>\n",
       "      <td>5.3847</td>\n",
       "      <td>0.0000</td>\n",
       "      <td>11.6690</td>\n",
       "      <td>11.3980</td>\n",
       "      <td>10.8249</td>\n",
       "      <td>11.5487</td>\n",
       "      <td>3.5408</td>\n",
       "      <td>1.4714</td>\n",
       "      <td>7.9144</td>\n",
       "      <td>...</td>\n",
       "      <td>0.0000</td>\n",
       "      <td>3.5408</td>\n",
       "      <td>5.5302</td>\n",
       "      <td>0.0000</td>\n",
       "      <td>7.5066</td>\n",
       "      <td>10.5302</td>\n",
       "      <td>7.3741</td>\n",
       "      <td>13.0045</td>\n",
       "      <td>7.0466</td>\n",
       "      <td>10.3411</td>\n",
       "    </tr>\n",
       "    <tr>\n",
       "      <th>TCGA-CC-A3MB-01</th>\n",
       "      <td>11.2430</td>\n",
       "      <td>4.0013</td>\n",
       "      <td>0.0000</td>\n",
       "      <td>12.0791</td>\n",
       "      <td>9.8248</td>\n",
       "      <td>10.5608</td>\n",
       "      <td>12.1228</td>\n",
       "      <td>3.5582</td>\n",
       "      <td>0.0000</td>\n",
       "      <td>7.9795</td>\n",
       "      <td>...</td>\n",
       "      <td>0.4699</td>\n",
       "      <td>2.1586</td>\n",
       "      <td>3.1834</td>\n",
       "      <td>0.0000</td>\n",
       "      <td>8.8500</td>\n",
       "      <td>9.5592</td>\n",
       "      <td>8.5064</td>\n",
       "      <td>12.9815</td>\n",
       "      <td>2.9873</td>\n",
       "      <td>10.9926</td>\n",
       "    </tr>\n",
       "    <tr>\n",
       "      <th>TCGA-BC-A3KF-01</th>\n",
       "      <td>11.1612</td>\n",
       "      <td>2.9374</td>\n",
       "      <td>0.0000</td>\n",
       "      <td>12.5931</td>\n",
       "      <td>9.9459</td>\n",
       "      <td>10.5179</td>\n",
       "      <td>12.5044</td>\n",
       "      <td>1.7444</td>\n",
       "      <td>0.0000</td>\n",
       "      <td>10.3039</td>\n",
       "      <td>...</td>\n",
       "      <td>0.4770</td>\n",
       "      <td>0.8347</td>\n",
       "      <td>3.5813</td>\n",
       "      <td>0.4770</td>\n",
       "      <td>8.6376</td>\n",
       "      <td>10.3457</td>\n",
       "      <td>8.3303</td>\n",
       "      <td>13.5581</td>\n",
       "      <td>4.5197</td>\n",
       "      <td>13.2960</td>\n",
       "    </tr>\n",
       "    <tr>\n",
       "      <th>TCGA-DD-A4NV-01</th>\n",
       "      <td>12.0167</td>\n",
       "      <td>4.7857</td>\n",
       "      <td>0.0000</td>\n",
       "      <td>11.4616</td>\n",
       "      <td>10.8368</td>\n",
       "      <td>10.1428</td>\n",
       "      <td>12.9470</td>\n",
       "      <td>3.8613</td>\n",
       "      <td>0.0000</td>\n",
       "      <td>9.0306</td>\n",
       "      <td>...</td>\n",
       "      <td>0.0000</td>\n",
       "      <td>3.5402</td>\n",
       "      <td>3.7620</td>\n",
       "      <td>0.0000</td>\n",
       "      <td>7.9929</td>\n",
       "      <td>11.4056</td>\n",
       "      <td>8.1968</td>\n",
       "      <td>13.8179</td>\n",
       "      <td>7.2957</td>\n",
       "      <td>11.0316</td>\n",
       "    </tr>\n",
       "  </tbody>\n",
       "</table>\n",
       "<p>5 rows × 20530 columns</p>\n",
       "</div>"
      ],
      "text/plain": [
       "                   0       1       2        3        4        5        6      \\\n",
       "TCGA-FV-A495-01  11.1818  5.2482  4.1956  11.5047   9.5995   9.6257  11.8053   \n",
       "TCGA-G3-A3CH-11  11.0186  5.3847  0.0000  11.6690  11.3980  10.8249  11.5487   \n",
       "TCGA-CC-A3MB-01  11.2430  4.0013  0.0000  12.0791   9.8248  10.5608  12.1228   \n",
       "TCGA-BC-A3KF-01  11.1612  2.9374  0.0000  12.5931   9.9459  10.5179  12.5044   \n",
       "TCGA-DD-A4NV-01  12.0167  4.7857  0.0000  11.4616  10.8368  10.1428  12.9470   \n",
       "\n",
       "                  7       8        9      ...   20520   20521   20522   20523  \\\n",
       "TCGA-FV-A495-01  5.6835  0.0000   8.7486  ...  0.0000  0.8379  6.1672  1.7494   \n",
       "TCGA-G3-A3CH-11  3.5408  1.4714   7.9144  ...  0.0000  3.5408  5.5302  0.0000   \n",
       "TCGA-CC-A3MB-01  3.5582  0.0000   7.9795  ...  0.4699  2.1586  3.1834  0.0000   \n",
       "TCGA-BC-A3KF-01  1.7444  0.0000  10.3039  ...  0.4770  0.8347  3.5813  0.4770   \n",
       "TCGA-DD-A4NV-01  3.8613  0.0000   9.0306  ...  0.0000  3.5402  3.7620  0.0000   \n",
       "\n",
       "                  20524    20525   20526    20527   20528    20529  \n",
       "TCGA-FV-A495-01  8.0444  12.3759  8.0357  13.5037  8.7327  10.4145  \n",
       "TCGA-G3-A3CH-11  7.5066  10.5302  7.3741  13.0045  7.0466  10.3411  \n",
       "TCGA-CC-A3MB-01  8.8500   9.5592  8.5064  12.9815  2.9873  10.9926  \n",
       "TCGA-BC-A3KF-01  8.6376  10.3457  8.3303  13.5581  4.5197  13.2960  \n",
       "TCGA-DD-A4NV-01  7.9929  11.4056  8.1968  13.8179  7.2957  11.0316  \n",
       "\n",
       "[5 rows x 20530 columns]"
      ]
     },
     "execution_count": 3,
     "metadata": {},
     "output_type": "execute_result"
    }
   ],
   "source": [
    "expr_data = pd.read_table(\"./gene_expression\")\n",
    "gene_list = expr_data['sample']\n",
    "expr = expr_data.drop(['sample'],axis=1)\n",
    "expr = expr.transpose()\n",
    "expr.head()"
   ]
  },
  {
   "cell_type": "code",
   "execution_count": 4,
   "metadata": {},
   "outputs": [],
   "source": [
    "clinical_data = pd.read_table(\"./TCGA.LIHC.sampleMap_LIHC_clinicalMatrix\")\n",
    "#clinical_data.head()\n",
    "idx = []\n",
    "for sample in expr.index:\n",
    "    #print(f\"expr row name : {sample}\")\n",
    "    sampleID_list = clinical_data['sampleID'].tolist()\n",
    "    tmp = sampleID_list.index(sample)\n",
    "    idx.append(tmp)\n",
    "\n",
    "clinical_core = clinical_data.reindex(idx)\n",
    "#clinical_core.head()\n",
    "map_dict = {'Primary Tumor' : 1,\n",
    "            'Recurrent Tumor' : 1,\n",
    "            'Solid Tissue Normal' : 0}\n",
    "clinical_core = clinical_core['sample_type'].apply(lambda x : map_dict[x])\n",
    "#clinical_core.head()"
   ]
  },
  {
   "cell_type": "code",
   "execution_count": 26,
   "metadata": {},
   "outputs": [
    {
     "name": "stdout",
     "output_type": "stream",
     "text": [
      "(296, 20530) (127, 20530) (296,) (127,)\n"
     ]
    }
   ],
   "source": [
    "X = expr\n",
    "y = clinical_core\n",
    "\n",
    "train_X, test_X, train_y, test_y = train_test_split(X, y, test_size=0.3, random_state=42)\n",
    "print(train_X.shape, test_X.shape, train_y.shape, test_y.shape)"
   ]
  },
  {
   "cell_type": "markdown",
   "metadata": {},
   "source": [
    "SVM"
   ]
  },
  {
   "cell_type": "code",
   "execution_count": 6,
   "metadata": {},
   "outputs": [],
   "source": [
    "from sklearn.pipeline import make_pipeline\n",
    "from sklearn.preprocessing import StandardScaler\n",
    "from sklearn.svm import SVC\n",
    "from sklearn.metrics import accuracy_score, f1_score"
   ]
  },
  {
   "cell_type": "code",
   "execution_count": 27,
   "metadata": {},
   "outputs": [
    {
     "name": "stdout",
     "output_type": "stream",
     "text": [
      "Accuracy score : 0.9921259842519685\n",
      "F1 score : 0.9805363984674329\n"
     ]
    }
   ],
   "source": [
    "clf  = make_pipeline(StandardScaler(), SVC(gamma= 'auto'))\n",
    "clf.fit(train_X, train_y)\n",
    "\n",
    "predict = clf.predict(test_X)\n",
    "print(f\"Accuracy score : {accuracy_score(test_y, predict)}\")\n",
    "print(f\"F1 score : {f1_score(test_y, predict, average = 'macro')}\")"
   ]
  }
 ],
 "metadata": {
  "kernelspec": {
   "display_name": "Python 3.10.4 ('hek')",
   "language": "python",
   "name": "python3"
  },
  "language_info": {
   "codemirror_mode": {
    "name": "ipython",
    "version": 3
   },
   "file_extension": ".py",
   "mimetype": "text/x-python",
   "name": "python",
   "nbconvert_exporter": "python",
   "pygments_lexer": "ipython3",
   "version": "3.10.4"
  },
  "orig_nbformat": 4,
  "vscode": {
   "interpreter": {
    "hash": "0491cbb347169b674faecc57483f555701d022daf991287b1e1cb5e40250a57a"
   }
  }
 },
 "nbformat": 4,
 "nbformat_minor": 2
}
