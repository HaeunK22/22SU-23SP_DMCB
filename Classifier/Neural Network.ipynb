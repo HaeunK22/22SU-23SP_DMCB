{
 "cells": [
  {
   "cell_type": "code",
   "execution_count": 118,
   "metadata": {},
   "outputs": [],
   "source": [
    "import os \n",
    "import pandas as pd \n",
    "import numpy as np\n",
    "from sklearn.model_selection import train_test_split\n",
    "import warnings\n",
    "warnings.filterwarnings('ignore')\n"
   ]
  },
  {
   "cell_type": "code",
   "execution_count": 2,
   "metadata": {},
   "outputs": [
    {
     "data": {
      "text/plain": [
       "'c:\\\\TCGA-LIHC'"
      ]
     },
     "execution_count": 2,
     "metadata": {},
     "output_type": "execute_result"
    }
   ],
   "source": [
    "os.getcwd()"
   ]
  },
  {
   "cell_type": "markdown",
   "metadata": {},
   "source": [
    "Data Loading"
   ]
  },
  {
   "cell_type": "code",
   "execution_count": 3,
   "metadata": {},
   "outputs": [],
   "source": [
    "expr_data = pd.read_table(\"./gene_expression\")\n",
    "gene_list = expr_data['sample']\n",
    "expr = expr_data.drop(['sample'],axis=1)\n",
    "expr = expr.transpose()\n",
    "\n",
    "clinical_data = pd.read_table(\"./TCGA.LIHC.sampleMap_LIHC_clinicalMatrix\")\n",
    "idx = []\n",
    "for sample in expr.index:\n",
    "    sampleID_list = clinical_data['sampleID'].tolist()\n",
    "    tmp = sampleID_list.index(sample)\n",
    "    idx.append(tmp)\n",
    "\n",
    "clinical_core = clinical_data.reindex(idx)\n",
    "map_dict = {'Primary Tumor' : 1,\n",
    "            'Recurrent Tumor' : 1,\n",
    "            'Solid Tissue Normal' : 0}\n",
    "clinical_core = clinical_core['sample_type'].apply(lambda x : map_dict[x])"
   ]
  },
  {
   "cell_type": "code",
   "execution_count": 122,
   "metadata": {},
   "outputs": [
    {
     "name": "stdout",
     "output_type": "stream",
     "text": [
      "torch.Size([296, 20530]) torch.Size([127, 20530]) torch.Size([296]) torch.Size([127])\n"
     ]
    }
   ],
   "source": [
    "X = torch.tensor(expr.to_numpy(), dtype=torch.float)\n",
    "y = torch.tensor(clinical_core.to_numpy(), dtype=torch.long)\n",
    "train_X, test_X, train_y, test_y = train_test_split(X, y, test_size=0.3, random_state=42)\n",
    "print(train_X.shape, test_X.shape, train_y.shape, test_y.shape)"
   ]
  },
  {
   "cell_type": "code",
   "execution_count": 123,
   "metadata": {},
   "outputs": [],
   "source": [
    "import torch\n",
    "from torch import nn\n",
    "from torch.utils.data import DataLoader\n",
    "from torch.utils.data import Dataset\n",
    "from torchvision import datasets\n",
    "from torchvision.transforms import ToTensor, Lambda\n",
    "\n",
    "class TrainDataset(Dataset):\n",
    "    def __init__(self):\n",
    "        self.x_data = train_X\n",
    "        self.y_data = train_y\n",
    "    \n",
    "    def __len__(self):\n",
    "        return len(self.x_data)\n",
    "    \n",
    "    def __getitem__(self, index):\n",
    "        x = torch.tensor(self.x_data[index]).clone().detach()\n",
    "        y = torch.tensor(self.y_data[index]).clone().detach()\n",
    "        return x, y\n",
    "    \n",
    "class TestDataset(Dataset):\n",
    "    def __init__(self):\n",
    "        self.x_data = test_X\n",
    "        self.y_data = test_y\n",
    "    \n",
    "    def __len__(self):\n",
    "        return len(self.x_data)\n",
    "    \n",
    "    def __getitem__(self, index):\n",
    "        x = torch.tensor(self.x_data[index]).clone().detach()\n",
    "        y = torch.tensor(self.y_data[index]).clone().detach()\n",
    "        return x, y\n",
    "    \n",
    "training_data = TrainDataset()\n",
    "test_data = TestDataset()\n",
    "\n",
    "train_dataloader = DataLoader(training_data, batch_size = 64)\n",
    "test_dataloader = DataLoader(test_data, batch_size = 64)"
   ]
  },
  {
   "cell_type": "markdown",
   "metadata": {},
   "source": [
    "Neural Network"
   ]
  },
  {
   "cell_type": "code",
   "execution_count": 6,
   "metadata": {},
   "outputs": [],
   "source": [
    "class NeuralNetwork(nn.Module):\n",
    "    def __init__(self):\n",
    "        super(NeuralNetwork, self).__init__()\n",
    "        self.linear_relu_stack = nn.Sequential(\n",
    "            nn.Linear(20530, 1024),\n",
    "            nn.ReLU(),\n",
    "            nn.Linear(1024,512),\n",
    "            nn.ReLU(),\n",
    "            nn.Linear(512,2),\n",
    "        )\n",
    "        \n",
    "    def forward(self, x):\n",
    "        logits = self.linear_relu_stack(x)\n",
    "        return logits"
   ]
  },
  {
   "cell_type": "code",
   "execution_count": 146,
   "metadata": {},
   "outputs": [],
   "source": [
    "model = NeuralNetwork()\n",
    "\n",
    "learning_rate = 3e-5\n",
    "batch_size = 64\n",
    "epochs = 20\n",
    "\n",
    "loss_fn = nn.CrossEntropyLoss()\n",
    "optimizer = torch.optim.Adam(model.parameters(), lr=learning_rate)\n",
    "\n",
    "def train_loop(dataloader, model, loss_fn, optimizer):\n",
    "    size = len(dataloader.dataset)\n",
    "    for batch, (X, y) in enumerate(dataloader):\n",
    "        # Compute prediction and loss\n",
    "        pred = model(X)\n",
    "        loss = loss_fn(pred, y)\n",
    "\n",
    "        # Backpropagation\n",
    "        optimizer.zero_grad()   # bc/ gradients by default add up; to prevent double counting.\n",
    "        loss.backward() # deposits gradients\n",
    "        optimizer.step()    # adjust parameters with gradients\n",
    "\n",
    "        if batch % 100 == 0:\n",
    "            loss, current = loss.item(), batch * len(X)\n",
    "            print(f\"loss: {loss:>7f}  [{current:>5d}/{size:>5d}]\")\n",
    "\n",
    "# iterate over test dataset to check model performance\n",
    "def test_loop(dataloader, model, loss_fn):\n",
    "    size = len(dataloader.dataset)\n",
    "    num_batches = len(dataloader)\n",
    "    test_loss, correct = 0, 0\n",
    "\n",
    "    with torch.no_grad():\n",
    "        for X, y in dataloader:\n",
    "            pred = model(X)\n",
    "            test_loss += loss_fn(pred, y).item()\n",
    "            correct += (pred.argmax(1) == y).type(torch.float).sum().item()\n",
    "\n",
    "    test_loss /= num_batches\n",
    "    correct /= size\n",
    "    print(f\"Test Error: \\n Accuracy: {(100*correct):>0.1f}%, Avg loss: {test_loss:>8f} \\n\")"
   ]
  },
  {
   "cell_type": "code",
   "execution_count": 147,
   "metadata": {},
   "outputs": [
    {
     "name": "stdout",
     "output_type": "stream",
     "text": [
      "Epoch 1\n",
      "-------------------------------\n",
      "loss: 0.923781  [    0/  296]\n",
      "Test Error: \n",
      " Accuracy: 89.0%, Avg loss: 0.715607 \n",
      "\n",
      "Epoch 2\n",
      "-------------------------------\n",
      "loss: 0.407823  [    0/  296]\n",
      "Test Error: \n",
      " Accuracy: 89.0%, Avg loss: 0.294592 \n",
      "\n",
      "Epoch 3\n",
      "-------------------------------\n",
      "loss: 0.213487  [    0/  296]\n",
      "Test Error: \n",
      " Accuracy: 89.0%, Avg loss: 0.352891 \n",
      "\n",
      "Epoch 4\n",
      "-------------------------------\n",
      "loss: 0.207963  [    0/  296]\n",
      "Test Error: \n",
      " Accuracy: 89.0%, Avg loss: 0.261639 \n",
      "\n",
      "Epoch 5\n",
      "-------------------------------\n",
      "loss: 0.232299  [    0/  296]\n",
      "Test Error: \n",
      " Accuracy: 89.0%, Avg loss: 0.245034 \n",
      "\n",
      "Epoch 6\n",
      "-------------------------------\n",
      "loss: 0.152441  [    0/  296]\n",
      "Test Error: \n",
      " Accuracy: 96.1%, Avg loss: 0.196287 \n",
      "\n",
      "Epoch 7\n",
      "-------------------------------\n",
      "loss: 0.179055  [    0/  296]\n",
      "Test Error: \n",
      " Accuracy: 89.0%, Avg loss: 0.163821 \n",
      "\n",
      "Epoch 8\n",
      "-------------------------------\n",
      "loss: 0.113939  [    0/  296]\n",
      "Test Error: \n",
      " Accuracy: 96.1%, Avg loss: 0.137807 \n",
      "\n",
      "Epoch 9\n",
      "-------------------------------\n",
      "loss: 0.115814  [    0/  296]\n",
      "Test Error: \n",
      " Accuracy: 95.3%, Avg loss: 0.120458 \n",
      "\n",
      "Epoch 10\n",
      "-------------------------------\n",
      "loss: 0.092473  [    0/  296]\n",
      "Test Error: \n",
      " Accuracy: 98.4%, Avg loss: 0.106320 \n",
      "\n",
      "Epoch 11\n",
      "-------------------------------\n",
      "loss: 0.083366  [    0/  296]\n",
      "Test Error: \n",
      " Accuracy: 98.4%, Avg loss: 0.094924 \n",
      "\n",
      "Epoch 12\n",
      "-------------------------------\n",
      "loss: 0.075085  [    0/  296]\n",
      "Test Error: \n",
      " Accuracy: 98.4%, Avg loss: 0.086439 \n",
      "\n",
      "Epoch 13\n",
      "-------------------------------\n",
      "loss: 0.065341  [    0/  296]\n",
      "Test Error: \n",
      " Accuracy: 99.2%, Avg loss: 0.078222 \n",
      "\n",
      "Epoch 14\n",
      "-------------------------------\n",
      "loss: 0.060551  [    0/  296]\n",
      "Test Error: \n",
      " Accuracy: 99.2%, Avg loss: 0.072763 \n",
      "\n",
      "Epoch 15\n",
      "-------------------------------\n",
      "loss: 0.053963  [    0/  296]\n",
      "Test Error: \n",
      " Accuracy: 99.2%, Avg loss: 0.067252 \n",
      "\n",
      "Epoch 16\n",
      "-------------------------------\n",
      "loss: 0.049896  [    0/  296]\n",
      "Test Error: \n",
      " Accuracy: 99.2%, Avg loss: 0.063095 \n",
      "\n",
      "Epoch 17\n",
      "-------------------------------\n",
      "loss: 0.045885  [    0/  296]\n",
      "Test Error: \n",
      " Accuracy: 99.2%, Avg loss: 0.059724 \n",
      "\n",
      "Epoch 18\n",
      "-------------------------------\n",
      "loss: 0.042419  [    0/  296]\n",
      "Test Error: \n",
      " Accuracy: 99.2%, Avg loss: 0.056196 \n",
      "\n",
      "Epoch 19\n",
      "-------------------------------\n",
      "loss: 0.039797  [    0/  296]\n",
      "Test Error: \n",
      " Accuracy: 99.2%, Avg loss: 0.054253 \n",
      "\n",
      "Epoch 20\n",
      "-------------------------------\n",
      "loss: 0.036983  [    0/  296]\n",
      "Test Error: \n",
      " Accuracy: 99.2%, Avg loss: 0.051080 \n",
      "\n"
     ]
    }
   ],
   "source": [
    "for t in range(epochs):\n",
    "    print(f\"Epoch {t+1}\\n-------------------------------\")\n",
    "    train_loop(train_dataloader, model, loss_fn, optimizer)\n",
    "    test_loop(test_dataloader, model, loss_fn)"
   ]
  }
 ],
 "metadata": {
  "kernelspec": {
   "display_name": "Python 3.10.4 ('hek')",
   "language": "python",
   "name": "python3"
  },
  "language_info": {
   "codemirror_mode": {
    "name": "ipython",
    "version": 3
   },
   "file_extension": ".py",
   "mimetype": "text/x-python",
   "name": "python",
   "nbconvert_exporter": "python",
   "pygments_lexer": "ipython3",
   "version": "3.10.4"
  },
  "orig_nbformat": 4,
  "vscode": {
   "interpreter": {
    "hash": "0491cbb347169b674faecc57483f555701d022daf991287b1e1cb5e40250a57a"
   }
  }
 },
 "nbformat": 4,
 "nbformat_minor": 2
}
